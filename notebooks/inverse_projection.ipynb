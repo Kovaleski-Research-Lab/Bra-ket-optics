{
 "cells": [
  {
   "cell_type": "code",
   "execution_count": null,
   "id": "6202d8e4-f328-42e3-ab99-fa7a08d4c65d",
   "metadata": {},
   "outputs": [],
   "source": [
    "import numpy as np\n",
    "import pickle\n",
    "import sys\n",
    "import matplotlib.pyplot as plt\n",
    "import h5py\n",
    "import yaml\n",
    "sys.path.append('../')\n",
    "from src.eig import *\n",
    "from src.geometry import *\n",
    "from src.utils import *"
   ]
  },
  {
   "cell_type": "code",
   "execution_count": null,
   "id": "421525b9-94c5-475f-8b4e-2001661eb48d",
   "metadata": {},
   "outputs": [],
   "source": [
    "# Load in the eigenvectors\n",
    "eig_values = pickle.load(open('../eigen_values_all.pkl', 'rb'))\n",
    "eig_vector_receiver, eig_vector_source = pickle.load(open('../eigen_vectors_all.pkl', 'rb'))\n",
    "modes = pickle.load(open(\"../evaluated_modes_all.pkl\", 'rb'))"
   ]
  },
  {
   "cell_type": "code",
   "execution_count": null,
   "id": "ad0ea1d5-4df5-46f4-b6c9-b546bb9c3ef3",
   "metadata": {},
   "outputs": [],
   "source": [
    "volume_data = pickle.load(open('../../../data/meep-dataset-v2/volumes/0000.pkl', 'rb'))[1.55][1]\n",
    "real_field = volume_data[0]\n",
    "imag_field = volume_data[1]\n",
    "field = real_field + 1j* imag_field\n",
    "\n",
    "first_slice = field[:,:,0]\n",
    "last_slice = field[:,:,-1]"
   ]
  },
  {
   "cell_type": "code",
   "execution_count": null,
   "id": "506fb3ee-ffde-4512-8f66-691b4598962f",
   "metadata": {},
   "outputs": [],
   "source": [
    "config = yaml.load(open('../config.yaml', 'r'), Loader=yaml.FullLoader)\n",
    "config['receiver']['center'] = [0,0,775]"
   ]
  },
  {
   "cell_type": "code",
   "execution_count": null,
   "id": "20569106-003d-4078-92b8-db246f31cb5a",
   "metadata": {},
   "outputs": [],
   "source": [
    "# Project the last plane into the receiver modes\n",
    "aj = np.conj(eig_vector_receiver.T) @ last_slice.flatten()"
   ]
  },
  {
   "cell_type": "code",
   "execution_count": null,
   "id": "d55e3fdc-03cb-487e-908d-59252fe52fb8",
   "metadata": {},
   "outputs": [],
   "source": [
    "projection = inverse_projection(aj, eig_values, eig_vector_source).reshape(166,166)"
   ]
  },
  {
   "cell_type": "code",
   "execution_count": null,
   "id": "3ccf6a56-8c90-42ad-a24b-9c2829048f49",
   "metadata": {},
   "outputs": [],
   "source": [
    "plt.imshow(np.abs(projection))"
   ]
  },
  {
   "cell_type": "code",
   "execution_count": null,
   "id": "4078ac78-59c8-4ee7-949e-c3c146c95abe",
   "metadata": {},
   "outputs": [],
   "source": [
    "eig_vector_receiver.shape"
   ]
  },
  {
   "cell_type": "code",
   "execution_count": null,
   "id": "07408934-7bc5-4306-9cac-337cb05afba5",
   "metadata": {},
   "outputs": [],
   "source": [
    "aj.shape"
   ]
  },
  {
   "cell_type": "code",
   "execution_count": null,
   "id": "07d0f1cf-d352-41bf-875e-06991f39b602",
   "metadata": {},
   "outputs": [],
   "source": [
    "eig_values.shape"
   ]
  },
  {
   "cell_type": "code",
   "execution_count": null,
   "id": "70de7666-7528-4e8f-95d1-5b51762da832",
   "metadata": {},
   "outputs": [],
   "source": []
  }
 ],
 "metadata": {
  "kernelspec": {
   "display_name": "Python 3 (ipykernel)",
   "language": "python",
   "name": "python3"
  },
  "language_info": {
   "codemirror_mode": {
    "name": "ipython",
    "version": 3
   },
   "file_extension": ".py",
   "mimetype": "text/x-python",
   "name": "python",
   "nbconvert_exporter": "python",
   "pygments_lexer": "ipython3",
   "version": "3.12.3"
  }
 },
 "nbformat": 4,
 "nbformat_minor": 5
}
