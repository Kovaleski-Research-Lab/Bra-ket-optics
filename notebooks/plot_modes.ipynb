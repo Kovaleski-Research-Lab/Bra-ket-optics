{
 "cells": [
  {
   "cell_type": "code",
   "execution_count": null,
   "id": "524bf333-b66a-47e6-aa1a-114dde22f22e",
   "metadata": {},
   "outputs": [],
   "source": [
    "import pickle\n",
    "import numpy\n",
    "import matplotlib.pyplot as plt\n",
    "import numpy as np\n",
    "from mpl_toolkits.axes_grid1 import make_axes_locatable\n",
    "import h5py\n",
    "from numpy.linalg import lstsq\n"
   ]
  },
  {
   "cell_type": "code",
   "execution_count": null,
   "id": "ce7afe82-9785-4b78-9139-67d66be73e31",
   "metadata": {},
   "outputs": [],
   "source": [
    "eig_values = pickle.load(open('../eigen_values.pkl', 'rb'))\n",
    "eig_vectors = pickle.load(open('../eigen_vectors.pkl', 'rb'))\n",
    "modes = pickle.load(open('../evaluated_modes.pkl', 'rb'))"
   ]
  },
  {
   "cell_type": "code",
   "execution_count": null,
   "id": "748b51d7-a967-4700-bc77-e24066f69195",
   "metadata": {},
   "outputs": [],
   "source": [
    "modes = np.asarray([mode.reshape(166,166) for mode in modes])"
   ]
  },
  {
   "cell_type": "code",
   "execution_count": null,
   "id": "dc326c17-2629-4035-965d-8739ef41e875",
   "metadata": {
    "scrolled": true
   },
   "outputs": [],
   "source": [
    "fig, ax = plt.subplots(3,3, figsize=(15,15))\n",
    "\n",
    "for i,mode in enumerate(modes):\n",
    "    im1 = ax[i//3][i%3].imshow(mode.real, cmap='jet')\n",
    "    ax[i//3][i%3].set_title(f\"Mode {i}\", fontsize=18)\n",
    "    ax[i//3][i%3].grid(False)\n",
    "    ax[i//3][i%3].axis('off')\n",
    "    divider = make_axes_locatable(ax[i//3][i%3])\n",
    "    cax = divider.append_axes('right', size='5%', pad=0.05)\n",
    "    cbar = fig.colorbar(im1, cax=cax, orientation='vertical')\n",
    "    cbar.ax.tick_params(labelsize=14)\n",
    "    if i == 8:\n",
    "        break\n",
    "plt.tight_layout()\n",
    "fig.savefig(\"plotted_modes.png\", dpi=300)"
   ]
  },
  {
   "cell_type": "code",
   "execution_count": null,
   "id": "80cff2d8-6d4a-4602-b724-348b6be9b21a",
   "metadata": {},
   "outputs": [],
   "source": [
    "meep_data = h5py.File('../../../data/meep-dataset-v2/0001/dft_00001.h5', 'r')"
   ]
  },
  {
   "cell_type": "code",
   "execution_count": null,
   "id": "9b2f22f9-df13-4cad-8323-16432b2d0073",
   "metadata": {},
   "outputs": [],
   "source": [
    "fields = meep_data['ey_2.r'][:] + 1j*meep_data['ey_2.i'][:]"
   ]
  },
  {
   "cell_type": "code",
   "execution_count": null,
   "id": "f7002ebc-7a1f-4357-9669-b740b8eaa129",
   "metadata": {},
   "outputs": [],
   "source": [
    "field = fields[:,:,-1]"
   ]
  },
  {
   "cell_type": "code",
   "execution_count": null,
   "id": "570fc1a3-0d87-46b3-ba7b-66d2aee6ffda",
   "metadata": {},
   "outputs": [],
   "source": [
    "plt.imshow(field.real)\n",
    "plt.colorbar()"
   ]
  },
  {
   "cell_type": "code",
   "execution_count": null,
   "id": "16018321-af0a-4765-be41-6d3dc8c26904",
   "metadata": {},
   "outputs": [],
   "source": [
    "field = field.reshape(-1)\n",
    "print(field.shape)"
   ]
  },
  {
   "cell_type": "code",
   "execution_count": null,
   "id": "c6d4c49e-5700-41dc-880c-74ebb66360e6",
   "metadata": {},
   "outputs": [],
   "source": [
    "c = np.conj(eig_vectors.T) @ field"
   ]
  },
  {
   "cell_type": "code",
   "execution_count": null,
   "id": "42c87abe-5b4e-494a-bb8d-506a2a198d6c",
   "metadata": {},
   "outputs": [],
   "source": [
    "plt.plot(c.real)"
   ]
  },
  {
   "cell_type": "code",
   "execution_count": null,
   "id": "c0fbf1f2-eb6c-4daa-a868-026e98d7cb6d",
   "metadata": {},
   "outputs": [],
   "source": [
    "E_reconstructed = (eig_vectors @ c)"
   ]
  },
  {
   "cell_type": "code",
   "execution_count": null,
   "id": "0931ceea-abe2-4e7b-a3d9-fdcf7f0b8840",
   "metadata": {},
   "outputs": [],
   "source": [
    "plt.imshow((E_reconstructed.real - field.real).reshape(166,166))\n",
    "plt.colorbar()"
   ]
  },
  {
   "cell_type": "code",
   "execution_count": null,
   "id": "d724ded1-6e4a-4e90-9fa8-5ceea041ee02",
   "metadata": {},
   "outputs": [],
   "source": [
    "c, residuals, rank, s = lstsq(eig_vectors, field, rcond=None)"
   ]
  },
  {
   "cell_type": "code",
   "execution_count": null,
   "id": "ea8b5921-582f-4595-bc51-c5149938b6a2",
   "metadata": {},
   "outputs": [],
   "source": [
    "E_reconstructed = (eig_vectors @ c)"
   ]
  },
  {
   "cell_type": "code",
   "execution_count": null,
   "id": "fb48fc21-78c3-408e-8a94-7cf511cc914c",
   "metadata": {},
   "outputs": [],
   "source": [
    "plt.imshow((E_reconstructed.real - field.real).reshape(166,166))\n",
    "plt.colorbar()"
   ]
  },
  {
   "cell_type": "code",
   "execution_count": null,
   "id": "307ff9eb-9c70-48d8-82f0-438352a70a91",
   "metadata": {},
   "outputs": [],
   "source": []
  }
 ],
 "metadata": {
  "kernelspec": {
   "display_name": "Python 3 (ipykernel)",
   "language": "python",
   "name": "python3"
  },
  "language_info": {
   "codemirror_mode": {
    "name": "ipython",
    "version": 3
   },
   "file_extension": ".py",
   "mimetype": "text/x-python",
   "name": "python",
   "nbconvert_exporter": "python",
   "pygments_lexer": "ipython3",
   "version": "3.13.5"
  }
 },
 "nbformat": 4,
 "nbformat_minor": 5
}
