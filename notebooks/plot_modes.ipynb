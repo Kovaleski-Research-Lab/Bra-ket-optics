{
 "cells": [
  {
   "cell_type": "code",
   "execution_count": null,
   "id": "524bf333-b66a-47e6-aa1a-114dde22f22e",
   "metadata": {},
   "outputs": [],
   "source": [
    "import pickle\n",
    "import numpy\n",
    "import matplotlib.pyplot as plt\n",
    "import numpy as np\n",
    "from mpl_toolkits.axes_grid1 import make_axes_locatable\n",
    "import h5py\n",
    "from numpy.linalg import lstsq\n",
    "import os\n",
    "import re\n",
    "\n",
    "from skimage.metrics import peak_signal_noise_ratio as psnr\n",
    "from skimage.metrics import mean_squared_error as mse\n",
    "from skimage.metrics import structural_similarity as ssim"
   ]
  },
  {
   "cell_type": "code",
   "execution_count": null,
   "id": "ce7afe82-9785-4b78-9139-67d66be73e31",
   "metadata": {},
   "outputs": [],
   "source": [
    "eig_values = pickle.load(open('../eigen_values_all.pkl', 'rb'))\n",
    "eig_vector_receiver, eig_vector_source = pickle.load(open('../eigen_vectors_all.pkl', 'rb'))\n",
    "modes = pickle.load(open(\"../evaluated_modes_all.pkl\", 'rb'))"
   ]
  },
  {
   "cell_type": "code",
   "execution_count": null,
   "id": "c5d69846-4e4e-4c4a-a81c-edd16161dfc7",
   "metadata": {},
   "outputs": [],
   "source": [
    "print(eig_vector_receiver.shape)\n",
    "print(eig_vector_source.shape)\n",
    "print(modes.shape)"
   ]
  },
  {
   "cell_type": "code",
   "execution_count": null,
   "id": "8f2bcbb9-d001-4495-a8ab-718ae8008a78",
   "metadata": {},
   "outputs": [],
   "source": [
    "eig_values"
   ]
  },
  {
   "cell_type": "code",
   "execution_count": null,
   "id": "99eacc32-bfe5-4223-b6b7-1c5dc8dd2e84",
   "metadata": {},
   "outputs": [],
   "source": [
    "S = np.sum(np.abs(eig_values)**2)"
   ]
  },
  {
   "cell_type": "code",
   "execution_count": null,
   "id": "8641761a-24cf-4b2f-b317-61a24a0a90e8",
   "metadata": {},
   "outputs": [],
   "source": [
    "print(S)"
   ]
  },
  {
   "cell_type": "code",
   "execution_count": null,
   "id": "ed01d03b-4515-4274-802c-49dd5ab0cbb8",
   "metadata": {},
   "outputs": [],
   "source": [
    "plt.plot(np.cumsum(np.abs(eig_values[0:50])**2)/S)"
   ]
  },
  {
   "cell_type": "code",
   "execution_count": null,
   "id": "748b51d7-a967-4700-bc77-e24066f69195",
   "metadata": {},
   "outputs": [],
   "source": [
    "modes = np.asarray([np.reshape(i, (166,166)) for i in modes])"
   ]
  },
  {
   "cell_type": "code",
   "execution_count": null,
   "id": "dc326c17-2629-4035-965d-8739ef41e875",
   "metadata": {
    "scrolled": true
   },
   "outputs": [],
   "source": [
    "fig, ax = plt.subplots(3,3, figsize=(15,15))\n",
    "\n",
    "for i,mode in enumerate(modes[0:9]):\n",
    "    im1 = ax[i//3][i%3].imshow(mode.real, cmap='jet')\n",
    "    ax[i//3][i%3].set_title(f\"Mode {i}\", fontsize=18)\n",
    "    ax[i//3][i%3].grid(False)\n",
    "    ax[i//3][i%3].axis('off')\n",
    "    divider = make_axes_locatable(ax[i//3][i%3])\n",
    "    cax = divider.append_axes('right', size='5%', pad=0.05)\n",
    "    cbar = fig.colorbar(im1, cax=cax, orientation='vertical')\n",
    "    cbar.ax.tick_params(labelsize=14)\n",
    "    if i == 8:\n",
    "        break\n",
    "plt.tight_layout()\n",
    "fig.savefig(\"plotted_modes.png\", dpi=300)"
   ]
  },
  {
   "cell_type": "code",
   "execution_count": null,
   "id": "80cff2d8-6d4a-4602-b724-348b6be9b21a",
   "metadata": {},
   "outputs": [],
   "source": [
    "meep_data = h5py.File('../../../data/meep-dataset-v2/0001/dft_00001.h5', 'r')"
   ]
  },
  {
   "cell_type": "code",
   "execution_count": null,
   "id": "9b2f22f9-df13-4cad-8323-16432b2d0073",
   "metadata": {},
   "outputs": [],
   "source": [
    "fields = meep_data['ey_2.r'][:] + 1j*meep_data['ey_2.i'][:]"
   ]
  },
  {
   "cell_type": "code",
   "execution_count": null,
   "id": "f7002ebc-7a1f-4357-9669-b740b8eaa129",
   "metadata": {},
   "outputs": [],
   "source": [
    "field = fields[:,:,-1]\n",
    "field = field.flatten()"
   ]
  },
  {
   "cell_type": "code",
   "execution_count": null,
   "id": "69269f5e-4dca-4d85-88c0-474664d95601",
   "metadata": {},
   "outputs": [],
   "source": [
    "reshaped_field = np.reshape(field, (166,166))\n",
    "norm_factor = np.max(np.abs(reshaped_field))\n",
    "reshaped_field = reshaped_field\n",
    "\n",
    "min_real = np.min(reshaped_field.real)\n",
    "max_real = np.max(reshaped_field.real)\n",
    "\n",
    "min_imag = np.min(reshaped_field.imag)\n",
    "max_imag = np.max(reshaped_field.imag)\n",
    "\n",
    "min_abs = np.min(np.abs(reshaped_field))\n",
    "max_abs = np.max(np.abs(reshaped_field))\n",
    "\n",
    "min_phase = np.min(np.angle(reshaped_field))\n",
    "max_phase = np.max(np.angle(reshaped_field))"
   ]
  },
  {
   "cell_type": "code",
   "execution_count": null,
   "id": "889a9f2e-6d6f-496c-8466-45711a0372c7",
   "metadata": {},
   "outputs": [],
   "source": [
    "fig,ax = plt.subplots(2,2, figsize=(10,10))\n",
    "\n",
    "im1 = ax[0][0].imshow(reshaped_field.real, cmap='jet', vmin=min_real, vmax=max_real)\n",
    "divider = make_axes_locatable(ax[0][0])\n",
    "cax = divider.append_axes('right', size='5%', pad=0.05)\n",
    "cbar = fig.colorbar(im1, cax=cax, orientation='vertical')\n",
    "cbar.ax.tick_params(labelsize=14)\n",
    "\n",
    "im1 = ax[0][1].imshow(reshaped_field.imag, cmap='jet', vmin=min_imag, vmax=max_imag)\n",
    "divider = make_axes_locatable(ax[0][1])\n",
    "cax = divider.append_axes('right', size='5%', pad=0.05)\n",
    "cbar = fig.colorbar(im1, cax=cax, orientation='vertical')\n",
    "cbar.ax.tick_params(labelsize=14)\n",
    "\n",
    "im1 = ax[1][0].imshow(np.abs(reshaped_field), cmap='jet', vmin=min_abs, vmax=max_abs)\n",
    "divider = make_axes_locatable(ax[1][0])\n",
    "cax = divider.append_axes('right', size='5%', pad=0.05)\n",
    "cbar = fig.colorbar(im1, cax=cax, orientation='vertical')\n",
    "cbar.ax.tick_params(labelsize=14)\n",
    "\n",
    "im1 = ax[1][1].imshow(np.angle(reshaped_field), cmap='hsv', vmin=-np.pi, vmax=np.pi)\n",
    "divider = make_axes_locatable(ax[1][1])\n",
    "cax = divider.append_axes('right', size='5%', pad=0.05)\n",
    "cbar = fig.colorbar(im1, cax=cax, orientation='vertical')\n",
    "cbar.ax.tick_params(labelsize=14)\n",
    "\n",
    "ax[0][0].set_title(\"Real\", fontsize=18)\n",
    "ax[0][1].set_title(\"Imaginary\", fontsize=18)\n",
    "ax[1][0].set_title(\"Magnitude\", fontsize=18)\n",
    "ax[1][1].set_title(\"Phase\", fontsize=18)\n",
    "\n",
    "\n",
    "for a in ax.flatten():\n",
    "    a.axis('off')\n",
    "plt.tight_layout()\n",
    "fig.savefig(\"meep_00001.png\", dpi=300)"
   ]
  },
  {
   "cell_type": "code",
   "execution_count": null,
   "id": "c6d4c49e-5700-41dc-880c-74ebb66360e6",
   "metadata": {},
   "outputs": [],
   "source": [
    "c = np.conj(eig_vector_receiver.T) @ field"
   ]
  },
  {
   "cell_type": "code",
   "execution_count": null,
   "id": "42c87abe-5b4e-494a-bb8d-506a2a198d6c",
   "metadata": {},
   "outputs": [],
   "source": [
    "fig,ax = plt.subplots(1,1,figsize=(6,3))\n",
    "ax.plot(np.abs(c[0:20]), color='darkgreen', marker='o')\n",
    "ax.grid()\n",
    "ax.set_xlabel(\"Mode number\", fontsize=18)\n",
    "ax.set_ylabel(r\"$|c_m|$\", fontsize=18)\n",
    "plt.tight_layout()\n",
    "fig.savefig(\"mode_projection_values.png\", dpi=300)"
   ]
  },
  {
   "cell_type": "code",
   "execution_count": null,
   "id": "c0fbf1f2-eb6c-4daa-a868-026e98d7cb6d",
   "metadata": {},
   "outputs": [],
   "source": [
    "E_reconstructed = (eig_vector_receiver @ c)\n",
    "E_reconstructed = E_reconstructed"
   ]
  },
  {
   "cell_type": "code",
   "execution_count": null,
   "id": "4d365d13-ba40-4198-b7ee-72fb6ac3f592",
   "metadata": {},
   "outputs": [],
   "source": [
    "E_reshaped = E_reconstructed.reshape(166,166)"
   ]
  },
  {
   "cell_type": "code",
   "execution_count": null,
   "id": "e37661e2-07e5-4374-9f6b-4de8ba4c7562",
   "metadata": {},
   "outputs": [],
   "source": [
    "fig,ax = plt.subplots(2,2, figsize=(10,10))\n",
    "\n",
    "im1 = ax[0][0].imshow(E_reshaped.real, cmap='jet', vmin=min_real, vmax=max_real)\n",
    "divider = make_axes_locatable(ax[0][0])\n",
    "cax = divider.append_axes('right', size='5%', pad=0.05)\n",
    "cbar = fig.colorbar(im1, cax=cax, orientation='vertical')\n",
    "cbar.ax.tick_params(labelsize=14)\n",
    "\n",
    "im1 = ax[0][1].imshow(E_reshaped.imag, cmap='jet', vmin=min_imag, vmax=max_imag)\n",
    "divider = make_axes_locatable(ax[0][1])\n",
    "cax = divider.append_axes('right', size='5%', pad=0.05)\n",
    "cbar = fig.colorbar(im1, cax=cax, orientation='vertical')\n",
    "cbar.ax.tick_params(labelsize=14)\n",
    "\n",
    "im1 = ax[1][0].imshow(np.abs(E_reshaped), cmap='jet', vmin=min_abs, vmax=max_abs)\n",
    "divider = make_axes_locatable(ax[1][0])\n",
    "cax = divider.append_axes('right', size='5%', pad=0.05)\n",
    "cbar = fig.colorbar(im1, cax=cax, orientation='vertical')\n",
    "cbar.ax.tick_params(labelsize=14)\n",
    "\n",
    "im1 = ax[1][1].imshow(np.angle(E_reshaped), cmap='hsv', vmin=-np.pi, vmax=np.pi)\n",
    "divider = make_axes_locatable(ax[1][1])\n",
    "cax = divider.append_axes('right', size='5%', pad=0.05)\n",
    "cbar = fig.colorbar(im1, cax=cax, orientation='vertical')\n",
    "cbar.ax.tick_params(labelsize=14)\n",
    "\n",
    "ax[0][0].set_title(\"Real\", fontsize=18)\n",
    "ax[0][1].set_title(\"Imaginary\", fontsize=18)\n",
    "ax[1][0].set_title(\"Magnitude\", fontsize=18)\n",
    "ax[1][1].set_title(\"Phase\", fontsize=18)\n",
    "\n",
    "\n",
    "for a in ax.flatten():\n",
    "    a.axis('off')\n",
    "plt.tight_layout()\n",
    "fig.savefig(\"reconstructed_00001_all.png\", dpi=300)"
   ]
  },
  {
   "cell_type": "code",
   "execution_count": null,
   "id": "a13d6c10-c02c-45ff-a6ea-f31cf96870fe",
   "metadata": {},
   "outputs": [],
   "source": [
    "difference = reshaped_field - E_reshaped\n",
    "diff_mag = np.abs(reshaped_field) - np.abs(E_reshaped)\n",
    "diff_phase = np.angle(reshaped_field) - np.angle(E_reshaped)\n",
    "diff_phase = (diff_phase + np.pi) % (2 * np.pi) - np.pi\n",
    "max_real_diff = np.max(np.abs(difference.real))\n",
    "max_imag_diff = np.max(np.abs(difference.imag))\n",
    "max_abs_diff = np.max(np.abs(diff_mag))"
   ]
  },
  {
   "cell_type": "code",
   "execution_count": null,
   "id": "dd67bb11-c607-4270-a9dc-61e6d46f5474",
   "metadata": {},
   "outputs": [],
   "source": [
    "fig,ax = plt.subplots(2,2, figsize=(10,10))\n",
    "\n",
    "im1 = ax[0][0].imshow(difference.real, cmap='jet', vmin=-max_real_diff, vmax=max_real_diff)\n",
    "divider = make_axes_locatable(ax[0][0])\n",
    "cax = divider.append_axes('right', size='5%', pad=0.05)\n",
    "cbar = fig.colorbar(im1, cax=cax, orientation='vertical')\n",
    "cbar.ax.tick_params(labelsize=14)\n",
    "\n",
    "im1 = ax[0][1].imshow(difference.imag, cmap='jet', vmin=-max_imag_diff, vmax=max_imag_diff)\n",
    "divider = make_axes_locatable(ax[0][1])\n",
    "cax = divider.append_axes('right', size='5%', pad=0.05)\n",
    "cbar = fig.colorbar(im1, cax=cax, orientation='vertical')\n",
    "cbar.ax.tick_params(labelsize=14)\n",
    "\n",
    "im1 = ax[1][0].imshow(diff_mag, cmap='jet', vmin=-max_abs_diff, vmax=max_abs_diff)\n",
    "divider = make_axes_locatable(ax[1][0])\n",
    "cax = divider.append_axes('right', size='5%', pad=0.05)\n",
    "cbar = fig.colorbar(im1, cax=cax, orientation='vertical')\n",
    "cbar.ax.tick_params(labelsize=14)\n",
    "\n",
    "im1 = ax[1][1].imshow(diff_phase, cmap='hsv', vmin=-np.pi, vmax=np.pi)\n",
    "divider = make_axes_locatable(ax[1][1])\n",
    "cax = divider.append_axes('right', size='5%', pad=0.05)\n",
    "cbar = fig.colorbar(im1, cax=cax, orientation='vertical')\n",
    "cbar.ax.tick_params(labelsize=14)\n",
    "\n",
    "ax[0][0].set_title(\"Real\", fontsize=18)\n",
    "ax[0][1].set_title(\"Imaginary\", fontsize=18)\n",
    "ax[1][0].set_title(\"Magnitude\", fontsize=18)\n",
    "ax[1][1].set_title(\"Phase\", fontsize=18)\n",
    "\n",
    "\n",
    "for a in ax.flatten():\n",
    "    a.axis('off')\n",
    "plt.tight_layout()\n",
    "fig.savefig(\"difference_00001_all.png\", dpi=300)"
   ]
  },
  {
   "cell_type": "markdown",
   "id": "225927a9-64b2-4b4a-8f39-bdc2bb746e70",
   "metadata": {},
   "source": [
    "## Okay, let's sweep the number of modes used and for more of the dataset"
   ]
  },
  {
   "cell_type": "code",
   "execution_count": null,
   "id": "fc55468a-a8b4-49cb-855f-424703e3daa9",
   "metadata": {},
   "outputs": [],
   "source": [
    "path_meep_data = '../../../data/meep-dataset-v2/'\n",
    "folders = os.listdir(path_meep_data)\n",
    "folders.sort()"
   ]
  },
  {
   "cell_type": "code",
   "execution_count": null,
   "id": "2158c4ff-8562-4470-a2e1-1f3381fd9920",
   "metadata": {},
   "outputs": [],
   "source": [
    "fields = []\n",
    "# Only include directories that end with a number\n",
    "numeric_dirs = [\n",
    "    os.path.join(path_meep_data, d) \n",
    "    for d in folders \n",
    "    if os.path.isdir(os.path.join(path_meep_data, d)) and re.match(r'^\\d+$', d)\n",
    "]\n",
    "print(numeric_dirs)\n",
    "# Iterate through numeric directories and read H5 files\n",
    "for d in numeric_dirs:\n",
    "    for fname in os.listdir(d):\n",
    "        if re.match(r'^dft_\\d+\\.h5$', fname):\n",
    "            h5_path = os.path.join(d, fname)\n",
    "            with h5py.File(h5_path, 'r') as f:\n",
    "                # Do something with the file\n",
    "                fields.append(f['ey_2.r'][:] + 1j*f['ey_2.i'][:])"
   ]
  },
  {
   "cell_type": "code",
   "execution_count": null,
   "id": "d142b1d6-d53c-412a-be2e-f17da8929678",
   "metadata": {},
   "outputs": [],
   "source": [
    "fields = [i[:,:,-1].flatten() for i in fields]"
   ]
  },
  {
   "cell_type": "code",
   "execution_count": null,
   "id": "43828d80-e61c-4a01-a77f-8d576cfa6f13",
   "metadata": {},
   "outputs": [],
   "source": [
    "projections = []\n",
    "for num_modes in np.arange(1, 101, 2):\n",
    "    temp = []\n",
    "    for field in fields:\n",
    "        temp.append(np.conj(eig_vector_receiver[:, 0:num_modes].T) @ field)\n",
    "    projections.append(np.asarray(temp))"
   ]
  },
  {
   "cell_type": "code",
   "execution_count": null,
   "id": "80a63a21-f8f2-4978-9ace-749f760ff6d3",
   "metadata": {},
   "outputs": [],
   "source": [
    "projections[1].shape"
   ]
  },
  {
   "cell_type": "code",
   "execution_count": null,
   "id": "f17f6e50-2372-415c-870b-c5a678d16cc0",
   "metadata": {},
   "outputs": [],
   "source": [
    "reconstructions = []\n",
    "for p in projections:\n",
    "    num_modes = p.shape[-1]\n",
    "    temp = []\n",
    "    for i,f in enumerate(fields):\n",
    "        # Get the projection for that field\n",
    "        c = p[i]\n",
    "        # Get the correct number of eigenvectors\n",
    "        eig = eig_vector_receiver[:,0:num_modes]\n",
    "        # Reconstruct\n",
    "        temp.append(eig @ c)\n",
    "    reconstructions.append(np.asarray(temp))"
   ]
  },
  {
   "cell_type": "code",
   "execution_count": null,
   "id": "000659c3-e6b6-42cd-8acc-9d5a72b5b343",
   "metadata": {},
   "outputs": [],
   "source": [
    "# Reshape the reconstructions\n",
    "reshaped_recon = []\n",
    "for i, recon in enumerate(reconstructions):\n",
    "    temp = []\n",
    "    for j,r in enumerate(recon):\n",
    "        temp.append(r.reshape(166,166))\n",
    "    reshaped_recon.append(np.asarray(temp))"
   ]
  },
  {
   "cell_type": "code",
   "execution_count": null,
   "id": "d98401fe-b31f-4050-babd-e53381ee77a6",
   "metadata": {
    "scrolled": true
   },
   "outputs": [],
   "source": [
    "fig,ax = plt.subplots(4,2,figsize=(10,20))\n",
    "\n",
    "for j,i in enumerate(np.arange(0, 20, 5)):\n",
    "    im1 = ax[j][0].imshow(reshaped_recon[i][1].real, cmap='jet', vmin=min_real, vmax=max_real)\n",
    "    divider = make_axes_locatable(ax[j][0])\n",
    "    cax = divider.append_axes('right', size='5%', pad=0.05)\n",
    "    cbar = fig.colorbar(im1, cax=cax, orientation='vertical')\n",
    "    cbar.ax.tick_params(labelsize=14)\n",
    "    ax[j][0].set_title(\"Real\", fontsize=18)\n",
    "    \n",
    "    im1 = ax[j][1].imshow(reshaped_recon[i][1].imag, cmap='jet', vmin=min_imag, vmax=max_imag)\n",
    "    divider = make_axes_locatable(ax[j][1])\n",
    "    cax = divider.append_axes('right', size='5%', pad=0.05)\n",
    "    cbar = fig.colorbar(im1, cax=cax, orientation='vertical')\n",
    "    cbar.ax.tick_params(labelsize=14)\n",
    "    ax[j][1].set_title(\"Imaginary\", fontsize=18)\n",
    "\n",
    "    print(i)\n",
    "for a in ax.flatten():\n",
    "    a.axis('off')\n",
    "\n",
    "plt.tight_layout()\n",
    "fig.savefig(\"reconstructions_increasing_modes.png\", dpi=300)"
   ]
  },
  {
   "cell_type": "markdown",
   "id": "320a0aa7-c3d4-4bf9-8e20-01754097c2d0",
   "metadata": {},
   "source": [
    "## Okay, now lets calculate MSE, PSNR and SSIM for the reconstructions as a function of number of modes used for recon"
   ]
  },
  {
   "cell_type": "code",
   "execution_count": null,
   "id": "945577b2-81e8-46fd-85ac-54cbf2bc89de",
   "metadata": {},
   "outputs": [],
   "source": [
    "# [num_modes, num_reconstructions, mse, psnr, ssim]\n",
    "\n",
    "final_mse = []\n",
    "final_psnr = []\n",
    "final_ssim = []\n",
    "\n",
    "for m in range(len(reconstructions)):\n",
    "    mse_vals = []\n",
    "    psnr_vals = []\n",
    "    ssim_vals = []\n",
    "    for i, recon in enumerate(reconstructions[m]):\n",
    "        truth = fields[i]\n",
    "\n",
    "        mse_vals.append([mse(truth.real, recon.real), mse(truth.imag, recon.imag)])\n",
    "        psnr_vals.append([psnr(truth.real, recon.real), psnr(truth.imag, recon.imag)])\n",
    "        #ssim_vals.append([ssim(truth.real, recon.real), ssim(truth.imag, recon.imag)])\n",
    "        \n",
    "    final_mse.append(np.asarray(mse_vals))\n",
    "    final_psnr.append(np.asarray(psnr_vals))\n",
    "    #final_ssim.append(np.asarray(ssim_vals))\n",
    "final_mse = np.asarray(final_mse)\n",
    "final_psnr = np.asarray(final_psnr)\n",
    "#final_ssim = np.asarray(final_ssim)"
   ]
  },
  {
   "cell_type": "code",
   "execution_count": null,
   "id": "91a5cb8a-b0fa-4673-b671-af35eccdd344",
   "metadata": {},
   "outputs": [],
   "source": [
    "print(final_mse.shape)\n",
    "print(final_psnr.shape)"
   ]
  },
  {
   "cell_type": "code",
   "execution_count": null,
   "id": "68517bbd-284b-4aab-ab92-cb4e9177f614",
   "metadata": {},
   "outputs": [],
   "source": [
    "# Lets get the average mse for the real and imag\n",
    "average_mse = final_mse.mean(axis=1)\n",
    "average_psnr = final_psnr.mean(axis=1)\n",
    "\n",
    "mse_std = final_mse.std(axis=1)\n",
    "psnr_std = final_psnr.std(axis=1)"
   ]
  },
  {
   "cell_type": "code",
   "execution_count": null,
   "id": "29d97f6c-7c46-467b-9a88-3182b446830b",
   "metadata": {},
   "outputs": [],
   "source": [
    "fig,ax = plt.subplots(1,2, figsize=(15,5))\n",
    "ax[0].plot(average_mse[:,0], label='MSE real')\n",
    "ax[0].plot(average_mse[:,1], label='MSE imag')\n",
    "\n",
    "ax[1].plot(average_psnr[:, 0], label='PSNR real')\n",
    "ax[1].plot(average_psnr[:, 1], label='PSNR image')\n",
    "\n",
    "ax[0].set_ylabel(\"MSE\")\n",
    "ax[1].set_ylabel(\"PSNR\")\n",
    "\n",
    "ax[0].set_xlabel(\"Number of modes\")\n",
    "ax[1].set_xlabel(\"Number of modes\")\n",
    "\n",
    "ax[0].legend()\n",
    "ax[1].legend()"
   ]
  },
  {
   "cell_type": "code",
   "execution_count": null,
   "id": "fdb903e6-f03c-4c69-93a8-fd30b8c584cf",
   "metadata": {},
   "outputs": [],
   "source": [
    "fig,ax = plt.subplots(1,2, figsize=(15,5))\n",
    "ax[0].plot(average_mse[:,0], label='MSE real')\n",
    "ax[0].plot(average_mse[:,1], label='MSE imag')\n",
    "\n",
    "ax[1].plot(average_psnr[:, 0], label='PSNR real')\n",
    "ax[1].plot(average_psnr[:, 1], label='PSNR image')\n",
    "\n",
    "ax[0].set_ylabel(\"MSE\")\n",
    "ax[1].set_ylabel(\"PSNR\")\n",
    "\n",
    "ax[0].set_xlabel(\"Number of modes\")\n",
    "ax[1].set_xlabel(\"Number of modes\")\n",
    "\n",
    "ax[0].set_yscale('log')\n",
    "ax[1].set_yscale('log')\n",
    "ax[0].legend()\n",
    "ax[1].legend()"
   ]
  },
  {
   "cell_type": "code",
   "execution_count": null,
   "id": "c996eb42-d931-40ba-b099-9c9be5407085",
   "metadata": {},
   "outputs": [],
   "source": [
    "fig, ax = plt.subplots(1, 2, figsize=(15, 5))\n",
    "cumulative_sum = np.cumsum(np.abs(eig_values)**2)\n",
    "x = np.arange(average_mse.shape[0])  # e.g., 0 to 49\n",
    "\n",
    "# MSE real\n",
    "ax[0].plot(x, average_mse[:, 0], label='MSE real', color='darkgreen', linewidth=2)\n",
    "ax[0].fill_between(x,\n",
    "                   average_mse[:, 0] - mse_std[:, 0],\n",
    "                   average_mse[:, 0] + mse_std[:, 0],\n",
    "                   alpha=0.3, color='darkgreen')\n",
    "\n",
    "\n",
    "\n",
    "# MSE imag\n",
    "ax[0].plot(x, average_mse[:, 1], label='MSE imag', color='darkblue', linewidth=2)\n",
    "ax[0].fill_between(x,\n",
    "                   average_mse[:, 1] - mse_std[:, 1],\n",
    "                   average_mse[:, 1] + mse_std[:, 1],\n",
    "                   alpha=0.3, color='darkblue')\n",
    "\n",
    "ax2 = ax[0].twinx()\n",
    "ax2.plot(x, cumulative_sum[0:len(average_mse)], label=r\"$\\sum_M |S_m|^2$\", color='purple', linewidth=2)\n",
    "ax[0].plot([],[], color='purple', label=r\"$\\sum_M |S_m|^2$\", linewidth=2)\n",
    "\n",
    "# PSNR real\n",
    "ax[1].plot(x, average_psnr[:, 0], label='PSNR real', color='darkgreen', linewidth=2)\n",
    "ax[1].fill_between(x,\n",
    "                   average_psnr[:, 0] - psnr_std[:, 0],\n",
    "                   average_psnr[:, 0] + psnr_std[:, 0],\n",
    "                   alpha=0.3, color='darkgreen')\n",
    "\n",
    "# PSNR imag\n",
    "ax[1].plot(x, average_psnr[:, 1], label='PSNR imag', color='darkblue', linewidth=2)\n",
    "ax[1].fill_between(x,\n",
    "                   average_psnr[:, 1] - psnr_std[:, 1],\n",
    "                   average_psnr[:, 1] + psnr_std[:, 1],\n",
    "                   alpha=0.3, color='darkblue')\n",
    "\n",
    "ax3 = ax[1].twinx()\n",
    "ax3.plot(x, cumulative_sum[0:len(average_mse)], label=r\"$\\sum_M |S_m|^2$\", color='purple', linewidth=2)\n",
    "ax[1].plot([],[], color='purple', label=r\"$\\sum_M |S_m|^2$\", linewidth=2)\n",
    "\n",
    "\n",
    "threshold_idx = np.argmax(cumulative_sum[0:50]/S >= 0.9)\n",
    "ax[0].axvline(x[threshold_idx], color='red', linestyle=':', label='90% Energy', linewidth=2)\n",
    "ax[1].axvline(x[threshold_idx], color='red', linestyle=':', label='90% Energy', linewidth=2)\n",
    "\n",
    "\n",
    "# Labels and legend\n",
    "ax[0].set_ylabel(\"MSE\", fontsize=14)\n",
    "ax[1].set_ylabel(\"PSNR\", fontsize=14)\n",
    "ax[0].set_xlabel(\"Number of modes\", fontsize=14)\n",
    "ax[1].set_xlabel(\"Number of modes\", fontsize=14)\n",
    "ax[0].legend(loc='center right', fontsize=14)\n",
    "ax[1].legend(loc='center right', fontsize=14)\n",
    "ax3.set_ylabel(\"Cumulative mode energy\", fontsize=14)\n",
    "ax2.set_ylabel(\"Cumulative mode energy\", fontsize=14)\n",
    "plt.tight_layout()\n",
    "fig.savefig(\"linear_mse_psnr_byMode.png\", dpi=300)"
   ]
  },
  {
   "cell_type": "code",
   "execution_count": null,
   "id": "6fd3f1e3-a584-483c-9b25-55d95d9641df",
   "metadata": {},
   "outputs": [],
   "source": [
    "fig, ax = plt.subplots(1, 2, figsize=(15, 5))\n",
    "cumulative_sum = np.cumsum(np.abs(eig_values)**2)\n",
    "x = np.arange(average_mse.shape[0])  # e.g., 0 to 49\n",
    "\n",
    "# MSE real\n",
    "ax[0].plot(x, average_mse[:, 0], label='MSE real', color='darkgreen', linewidth=2)\n",
    "ax[0].fill_between(x,\n",
    "                   average_mse[:, 0] - mse_std[:, 0],\n",
    "                   average_mse[:, 0] + mse_std[:, 0],\n",
    "                   alpha=0.3, color='darkgreen')\n",
    "\n",
    "\n",
    "\n",
    "# MSE imag\n",
    "ax[0].plot(x, average_mse[:, 1], label='MSE imag', color='darkblue')\n",
    "ax[0].fill_between(x,\n",
    "                   average_mse[:, 1] - mse_std[:, 1],\n",
    "                   average_mse[:, 1] + mse_std[:, 1],\n",
    "                   alpha=0.3, color='darkblue')\n",
    "\n",
    "ax2 = ax[0].twinx()\n",
    "ax2.plot(x, cumulative_sum[0:len(average_mse)], label=r\"$\\sum_M |S_m|^2$\", color='purple', linewidth=2)\n",
    "ax[0].plot([],[], color='purple', label=r\"$\\sum_M |S_m|^2$\", linewidth=2)\n",
    "\n",
    "# PSNR real\n",
    "ax[1].plot(x, average_psnr[:, 0], label='PSNR real', color='darkgreen', linewidth=2)\n",
    "ax[1].fill_between(x,\n",
    "                   average_psnr[:, 0] - psnr_std[:, 0],\n",
    "                   average_psnr[:, 0] + psnr_std[:, 0],\n",
    "                   alpha=0.3, color='darkgreen')\n",
    "\n",
    "# PSNR imag\n",
    "ax[1].plot(x, average_psnr[:, 1], label='PSNR imag', color='darkblue', linewidth=2)\n",
    "ax[1].fill_between(x,\n",
    "                   average_psnr[:, 1] - psnr_std[:, 1],\n",
    "                   average_psnr[:, 1] + psnr_std[:, 1],\n",
    "                   alpha=0.3, color='darkblue')\n",
    "\n",
    "ax3 = ax[1].twinx()\n",
    "ax3.plot(x, cumulative_sum[0:len(average_mse)], label=r\"$\\sum_M |S_m|^2$\", color='purple', linewidth=2)\n",
    "\n",
    "ax[1].plot([],[], color='purple', label=r\"$\\sum_M |S_m|^2$\", linewidth=2)\n",
    "\n",
    "threshold_idx = np.argmax(cumulative_sum[0:50]/S >= 0.9)\n",
    "ax[0].axvline(x[threshold_idx], color='red', linestyle=':', label='90% Energy', linewidth=2)\n",
    "ax[1].axvline(x[threshold_idx], color='red', linestyle=':', label='90% Energy', linewidth=2)\n",
    "\n",
    "\n",
    "ax[0].set_yscale('log')\n",
    "ax[1].set_yscale('log')\n",
    "\n",
    "# Labels and legend\n",
    "ax[0].set_ylabel(\"MSE\", fontsize=14)\n",
    "ax[1].set_ylabel(\"PSNR\", fontsize=14)\n",
    "ax[0].set_xlabel(\"Number of modes\", fontsize=14)\n",
    "ax[1].set_xlabel(\"Number of modes\", fontsize=14)\n",
    "ax[0].legend(loc='center right', fontsize=14)\n",
    "ax[1].legend(loc='center right', fontsize=14)\n",
    "ax3.set_ylabel(\"Cumulative mode energy\", fontsize=14)\n",
    "ax2.set_ylabel(\"Cumulative mode energy\", fontsize=14)\n",
    "\n",
    "plt.tight_layout()\n",
    "fig.savefig(\"log_mse_pnsr_byMode.png\", dpi=300)"
   ]
  },
  {
   "cell_type": "code",
   "execution_count": null,
   "id": "fbbfb217-4696-4321-82f5-3b2dde2e8a07",
   "metadata": {},
   "outputs": [],
   "source": [
    "cumulative_sum = np.cumsum(np.abs(eig_values)**2)\n",
    "cumulative_sum /= S\n",
    "fig, ax = plt.subplots(1, 2, figsize=(15, 5))\n",
    "\n",
    "x = cumulative_sum[0:len(average_mse)]  # e.g., 0 to 49\n",
    "\n",
    "# MSE real\n",
    "ax[0].plot(x, average_mse[:, 0], label='MSE real')\n",
    "ax[0].fill_between(x,\n",
    "                   average_mse[:, 0] - mse_std[:, 0],\n",
    "                   average_mse[:, 0] + mse_std[:, 0],\n",
    "                   alpha=0.3)\n",
    "\n",
    "# MSE imag\n",
    "ax[0].plot(x, average_mse[:, 1], label='MSE imag')\n",
    "ax[0].fill_between(x,\n",
    "                   average_mse[:, 1] - mse_std[:, 1],\n",
    "                   average_mse[:, 1] + mse_std[:, 1],\n",
    "                   alpha=0.3)\n",
    "\n",
    "# PSNR real\n",
    "ax[1].plot(x, average_psnr[:, 0], label='PSNR real')\n",
    "ax[1].fill_between(x,\n",
    "                   average_psnr[:, 0] - psnr_std[:, 0],\n",
    "                   average_psnr[:, 0] + psnr_std[:, 0],\n",
    "                   alpha=0.3)\n",
    "\n",
    "# PSNR imag\n",
    "ax[1].plot(x, average_psnr[:, 1], label='PSNR imag')\n",
    "ax[1].fill_between(x,\n",
    "                   average_psnr[:, 1] - psnr_std[:, 1],\n",
    "                   average_psnr[:, 1] + psnr_std[:, 1],\n",
    "                   alpha=0.3)\n",
    "\n",
    "threshold_idx = np.argmax(x >= 0.9)\n",
    "ax[0].axvline(x[threshold_idx], color='red', linestyle=':', label='90% Energy')\n",
    "ax[1].axvline(x[threshold_idx], color='red', linestyle=':', label='90% Energy')\n",
    "\n",
    "\n",
    "# Labels and legend\n",
    "ax[0].set_ylabel(\"MSE\")\n",
    "ax[1].set_ylabel(\"PSNR\")\n",
    "ax[0].set_xlabel(r\"$\\sum_M |S_m|^2$\")\n",
    "ax[1].set_xlabel(r\"$\\sum_M |S_m|^2$\")\n",
    "\n",
    "ax[0].legend()\n",
    "ax[1].legend()"
   ]
  },
  {
   "cell_type": "code",
   "execution_count": null,
   "id": "348b6aaa-0fed-4ffa-8402-f974d5a3159b",
   "metadata": {},
   "outputs": [],
   "source": [
    "plt.plot(cumulative_sum[0:50])"
   ]
  },
  {
   "cell_type": "code",
   "execution_count": null,
   "id": "c87bfe91-ac47-43b4-acda-fe33a2a63522",
   "metadata": {},
   "outputs": [],
   "source": [
    "meep_data = h5py.File('../../../data/meep-dataset-v2/0000/dft_00000.h5', 'r')\n",
    "fields = meep_data['ey_2.r'][:] + 1j*meep_data['ey_2.i'][:]"
   ]
  },
  {
   "cell_type": "code",
   "execution_count": null,
   "id": "1d81a6b5-4e2f-4f3b-ad59-1c5c175560f4",
   "metadata": {},
   "outputs": [],
   "source": [
    "plt.imshow(np.angle(fields[:,:,0].real + 1j*fields[:,:,0].imag))"
   ]
  },
  {
   "cell_type": "code",
   "execution_count": null,
   "id": "0e36340d-25f4-4aef-abbf-82e987298014",
   "metadata": {},
   "outputs": [],
   "source": []
  }
 ],
 "metadata": {
  "kernelspec": {
   "display_name": "Python 3 (ipykernel)",
   "language": "python",
   "name": "python3"
  },
  "language_info": {
   "codemirror_mode": {
    "name": "ipython",
    "version": 3
   },
   "file_extension": ".py",
   "mimetype": "text/x-python",
   "name": "python",
   "nbconvert_exporter": "python",
   "pygments_lexer": "ipython3",
   "version": "3.12.3"
  }
 },
 "nbformat": 4,
 "nbformat_minor": 5
}
