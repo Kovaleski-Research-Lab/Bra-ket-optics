{
 "cells": [
  {
   "cell_type": "code",
   "execution_count": null,
   "id": "a11db536-c53c-4747-8711-ff791c4da9a5",
   "metadata": {},
   "outputs": [],
   "source": [
    "import os\n",
    "import re\n",
    "import h5py\n",
    "import pickle\n",
    "import matplotlib.pyplot as plt\n",
    "from mpl_toolkits.axes_grid1 import make_axes_locatable\n",
    "\n",
    "import numpy as np"
   ]
  },
  {
   "cell_type": "code",
   "execution_count": null,
   "id": "da806c9e-b78e-4b05-bb3e-cd0c2c78bc78",
   "metadata": {},
   "outputs": [],
   "source": [
    "print(plt.style.available)\n",
    "plt.style.use('seaborn-v0_8-whitegrid')"
   ]
  },
  {
   "cell_type": "code",
   "execution_count": null,
   "id": "50321832-c317-4f8a-a0c0-f40ab6f3e1cd",
   "metadata": {},
   "outputs": [],
   "source": [
    "eig_values = pickle.load(open('/develop/results/eig/eigen_values_all.pkl', 'rb'))\n",
    "eig_vect_rec, eig_vect_source = pickle.load(open('/develop/results/eig/eigen_vectors_all.pkl', 'rb'))"
   ]
  },
  {
   "cell_type": "code",
   "execution_count": null,
   "id": "3d26db44-4744-451b-b9ef-252aa3906552",
   "metadata": {},
   "outputs": [],
   "source": [
    "# Plot the magnitude of the eigen values\n",
    "fig, ax = plt.subplots(1,2,figsize=(12,5))\n",
    "ax[0].plot(np.abs(eig_values))\n",
    "ax[0].set_yscale('log')\n",
    "ax[0].set_ylabel(\"|Eigen values|\")\n",
    "ax[0].set_xlabel(\"Mode number\")\n",
    "\n",
    "ax[1].plot(np.abs(eig_values))\n",
    "ax[1].set_yscale('log')\n",
    "ax[1].set_xscale('log')\n",
    "ax[1].set_ylabel(\"|Eigen values|\")\n",
    "ax[1].set_xlabel(\"Mode number\")\n",
    "plt.tight_layout()"
   ]
  },
  {
   "cell_type": "code",
   "execution_count": null,
   "id": "aa47eb14-6f49-4fce-9850-93e73235d0a6",
   "metadata": {},
   "outputs": [],
   "source": [
    "S = np.sum(np.abs(eig_values)**2)\n",
    "print(f\"Sum rule = {S}\")"
   ]
  },
  {
   "cell_type": "code",
   "execution_count": null,
   "id": "a764167d-c2fd-47b6-829d-a5afc50ccb7c",
   "metadata": {},
   "outputs": [],
   "source": [
    "fig,ax = plt.subplots(1,1,figsize=(8,5))\n",
    "ax.plot(np.cumsum(np.abs(eig_values[0:50])**2)/S)\n",
    "ax.set_xlabel(\"Mode numer\")\n",
    "ax.set_ylabel(\"Cumulative sum of eigenvalues\")"
   ]
  },
  {
   "cell_type": "markdown",
   "id": "637a0f71-008a-4dc3-bc9b-f7e30f1f5003",
   "metadata": {},
   "source": [
    "## Mode projections"
   ]
  },
  {
   "cell_type": "code",
   "execution_count": null,
   "id": "cd03b718-a3fb-41f6-a093-56ea0e73258c",
   "metadata": {},
   "outputs": [],
   "source": [
    "path_meep_data = '/develop/data/'\n",
    "folders = os.listdir(path_meep_data)\n",
    "folders.sort()"
   ]
  },
  {
   "cell_type": "code",
   "execution_count": null,
   "id": "6e65cb6d-5dcd-4a52-bd5e-3f26b1475937",
   "metadata": {
    "scrolled": true
   },
   "outputs": [],
   "source": [
    "# Load in the fields\n",
    "fields = []\n",
    "# Only include directories that end with a number\n",
    "numeric_dirs = [\n",
    "    os.path.join(path_meep_data, d) \n",
    "    for d in folders \n",
    "    if os.path.isdir(os.path.join(path_meep_data, d)) and re.match(r'^\\d+$', d)\n",
    "]\n",
    "#print(numeric_dirs)\n",
    "# Iterate through numeric directories and read H5 files\n",
    "# This can take a lot of time on Nautilus - moving data on disk (remote) to memory\n",
    "for d in numeric_dirs:\n",
    "    print(d)\n",
    "    for fname in os.listdir(d):\n",
    "        if re.match(r'^dft_\\d+\\.h5$', fname):\n",
    "            h5_path = os.path.join(d, fname)\n",
    "            with h5py.File(h5_path, 'r') as f:\n",
    "                # Append the complex valued field\n",
    "                # Only the final slice\n",
    "                fields.append(f['ey_2.r'][:,:,-1] + 1j*f['ey_2.i'][:,:,-1])"
   ]
  },
  {
   "cell_type": "code",
   "execution_count": null,
   "id": "35a2b03a-9742-401e-adcd-a55bbac1256d",
   "metadata": {},
   "outputs": [],
   "source": [
    "pickle.dump(fields, open('/develop/data/fields.pkl', 'wb'))"
   ]
  },
  {
   "cell_type": "code",
   "execution_count": null,
   "id": "e8718be1-2680-4d29-bcb8-153be0dd9f5c",
   "metadata": {},
   "outputs": [],
   "source": [
    "# Flatten the fields\n",
    "fields = [i.flatten() for i in fields]"
   ]
  },
  {
   "cell_type": "code",
   "execution_count": null,
   "id": "a51b1dab-8da6-435f-a1f4-a431e745ba50",
   "metadata": {
    "scrolled": true
   },
   "outputs": [],
   "source": [
    "projections = []\n",
    "for i, field in enumerate(fields):\n",
    "    projections.append(np.conj(eig_vect_rec[:, 0:1000].T) @ field)\n",
    "    print(i)"
   ]
  },
  {
   "cell_type": "code",
   "execution_count": null,
   "id": "7c14a17b-8726-4d43-8bd4-81133f1cc492",
   "metadata": {},
   "outputs": [],
   "source": [
    "pickle.dump(projections, open('/develop/results/projections_0.pkl', 'wb'))"
   ]
  },
  {
   "cell_type": "code",
   "execution_count": null,
   "id": "4a43ecc1-82a8-4a49-b08b-eba2807c8f0a",
   "metadata": {},
   "outputs": [],
   "source": [
    "# Test some reconstructions\n",
    "reconstructions = []\n",
    "for i, p in enumerate(projections):\n",
    "    num_modes = p.shape[-1]\n",
    "    # Get the correct number of eigenvectors\n",
    "    eig = eig_vect_rec[:,0:num_modes]\n",
    "    # Reconstruct\n",
    "    reconstructions.append(np.asarray(eig @ p))\n",
    "    if i == 2:\n",
    "        break"
   ]
  },
  {
   "cell_type": "code",
   "execution_count": null,
   "id": "cee6a001-02ac-4a6b-a9d4-f9d37760bd4f",
   "metadata": {},
   "outputs": [],
   "source": [
    "fig, ax = plt.subplots(2, 3, figsize=(12, 8))\n",
    "\n",
    "f = fields[0].reshape(166,166)\n",
    "im0 = ax[0][0].imshow(f.real, cmap='viridis')\n",
    "divider = make_axes_locatable(ax[0][0])\n",
    "cax = divider.append_axes('right', size='5%', pad=0.05)\n",
    "cbar = fig.colorbar(im0, cax=cax, orientation='vertical')\n",
    "cbar.ax.tick_params(labelsize=14)\n",
    "ax[0][0].set_title(\"Truth (real)\")\n",
    "\n",
    "\n",
    "im1 = ax[1][0].imshow(f.imag, cmap='viridis')\n",
    "divider = make_axes_locatable(ax[1][0])\n",
    "cax = divider.append_axes('right', size='5%', pad=0.05)\n",
    "cbar = fig.colorbar(im1, cax=cax, orientation='vertical')\n",
    "cbar.ax.tick_params(labelsize=14)\n",
    "ax[1][0].set_title(\"Truth (imag)\")\n",
    "\n",
    "r = reconstructions[0].reshape(166,166)\n",
    "im2 = ax[0][1].imshow(r.real, cmap='viridis')\n",
    "divider = make_axes_locatable(ax[0][1])\n",
    "cax = divider.append_axes('right', size='5%', pad=0.05)\n",
    "cbar = fig.colorbar(im2, cax=cax, orientation='vertical')\n",
    "cbar.ax.tick_params(labelsize=14)\n",
    "ax[0][1].set_title(\"Recon (real)\")\n",
    "\n",
    "\n",
    "im3 = ax[1][1].imshow(r.imag, cmap='viridis')\n",
    "divider = make_axes_locatable(ax[1][1])\n",
    "cax = divider.append_axes('right', size='5%', pad=0.05)\n",
    "cbar = fig.colorbar(im3, cax=cax, orientation='vertical')\n",
    "cbar.ax.tick_params(labelsize=14)\n",
    "ax[1][1].set_title(\"Recon (imag)\")\n",
    "\n",
    "\n",
    "diff_real = f.real - r.real\n",
    "diff_imag = f.imag - r.imag\n",
    "\n",
    "im4 = ax[0][2].imshow(diff_real, cmap='viridis')\n",
    "divider = make_axes_locatable(ax[0][2])\n",
    "cax = divider.append_axes('right', size='5%', pad=0.05)\n",
    "cbar = fig.colorbar(im4, cax=cax, orientation='vertical')\n",
    "cbar.ax.tick_params(labelsize=14)\n",
    "ax[0][2].set_title(\"Diff (real)\")\n",
    "\n",
    "im5 = ax[1][2].imshow(diff_imag, cmap='viridis')\n",
    "divider = make_axes_locatable(ax[1][2])\n",
    "cax = divider.append_axes('right', size='5%', pad=0.05)\n",
    "cbar = fig.colorbar(im5, cax=cax, orientation='vertical')\n",
    "cbar.ax.tick_params(labelsize=14)\n",
    "ax[1][2].set_title(\"Diff (imag)\")\n",
    "\n",
    "for a in ax.flatten():\n",
    "    a.axis('off')"
   ]
  },
  {
   "cell_type": "markdown",
   "id": "13977e46-4ea0-4cbd-bab8-c1636271ba9b",
   "metadata": {},
   "source": [
    "## Now, I want to test source eigenvectors evaluated at the receive plane\n",
    "\n",
    "In this case, we take the source eigenvectors and evaluate them at the receive plane. This creates the projection of the source eigenvectors on the receive plan.\n",
    "\n",
    "Then, we take the field (which is sampled at the recieve plan) and decompose it into the projected modes.\n",
    "\n",
    "This should be equivalent to decomposing the fields into the reciever eigenvectors, but when I try and plot the receiver eigenvectors, they are jibberish.\n",
    "\n",
    "However, plotting the projected source modes produces 'qualitatively good' modes.\n",
    "\n",
    "I do the source projections in src/utils.py, and called in main.py"
   ]
  },
  {
   "cell_type": "code",
   "execution_count": null,
   "id": "12d5220d-fec7-4074-8068-7ac57bf41339",
   "metadata": {},
   "outputs": [],
   "source": [
    "source_projections = pickle.load(open('/develop/results/evaluated_modes_all.pkl', 'rb'))"
   ]
  },
  {
   "cell_type": "code",
   "execution_count": null,
   "id": "6a3350c1-5c9e-4da4-8db7-2368c4679697",
   "metadata": {},
   "outputs": [],
   "source": [
    "modes = [i.reshape(166,166) for i in source_projections]\n",
    "print(len(modes))"
   ]
  },
  {
   "cell_type": "code",
   "execution_count": null,
   "id": "1e861109-bc3d-45ea-a913-0ff762ed505e",
   "metadata": {},
   "outputs": [],
   "source": [
    "fig, ax = plt.subplots(3,3, figsize=(15,15))\n",
    "\n",
    "for i,mode in enumerate(modes[0:9]):\n",
    "    im1 = ax[i//3][i%3].imshow(mode.real, cmap='jet')\n",
    "    ax[i//3][i%3].set_title(f\"Mode {i}\", fontsize=18)\n",
    "    ax[i//3][i%3].grid(False)\n",
    "    ax[i//3][i%3].axis('off')\n",
    "    divider = make_axes_locatable(ax[i//3][i%3])\n",
    "    cax = divider.append_axes('right', size='5%', pad=0.05)\n",
    "    cbar = fig.colorbar(im1, cax=cax, orientation='vertical')\n",
    "    cbar.ax.tick_params(labelsize=14)\n",
    "    if i == 8:\n",
    "        break\n",
    "plt.tight_layout()\n"
   ]
  },
  {
   "cell_type": "code",
   "execution_count": null,
   "id": "127848d5-b11d-4825-b81b-cb6e8a48379a",
   "metadata": {
    "scrolled": true
   },
   "outputs": [],
   "source": [
    "source_projections.shape"
   ]
  },
  {
   "cell_type": "code",
   "execution_count": null,
   "id": "4b9f9b0b-08ce-4750-bf8f-6a7f6e136c1a",
   "metadata": {},
   "outputs": [],
   "source": [
    "source_projections_decomp = []\n",
    "for i, field in enumerate(fields):\n",
    "    source_projections_decomp.append(source_projections[0:1000, :] @ field)"
   ]
  },
  {
   "cell_type": "code",
   "execution_count": null,
   "id": "029af773-2992-45c3-b6da-c893980d3fee",
   "metadata": {},
   "outputs": [],
   "source": [
    "source_projections_decomp = np.asarray(source_projections_decomp)"
   ]
  },
  {
   "cell_type": "code",
   "execution_count": null,
   "id": "0ee0edc2-499e-48b8-83ab-169652e9b9b5",
   "metadata": {},
   "outputs": [],
   "source": [
    "source_projections_decomp.shape"
   ]
  },
  {
   "cell_type": "code",
   "execution_count": null,
   "id": "3539fa31-7a68-4e5b-a190-dba850844232",
   "metadata": {},
   "outputs": [],
   "source": [
    "# Let's plot the magnitude of one decomp into the source projection\n",
    "fig, ax = plt.subplots(1,2,figsize=(12,5))\n",
    "ax[0].plot(np.abs(source_projections_decomp[0]))\n",
    "ax[0].set_yscale('log')\n",
    "ax[0].set_ylabel(\"|Field decomp into source projection|\")\n",
    "ax[0].set_xlabel(\"Mode number\")\n",
    "\n",
    "ax[1].plot(np.abs(source_projections_decomp[0]))\n",
    "ax[1].set_yscale('log')\n",
    "ax[1].set_xscale('log')\n",
    "ax[1].set_ylabel(\"|Field decomp into source projection|\")\n",
    "ax[1].set_xlabel(\"Mode number\")\n",
    "plt.tight_layout()"
   ]
  },
  {
   "cell_type": "code",
   "execution_count": null,
   "id": "d3e8a6bb-87a2-4c1a-9b72-bc31bb9e5b6f",
   "metadata": {},
   "outputs": [],
   "source": [
    "source_projections.shape"
   ]
  },
  {
   "cell_type": "code",
   "execution_count": null,
   "id": "288eb0de-1c9f-41c4-8c6c-57243e0335f2",
   "metadata": {},
   "outputs": [],
   "source": [
    "# Okay, now lets build some reconstructions using a superposition of these modes and their projections\n",
    "reconstructions_2 = []\n",
    "for i, d in enumerate(source_projections_decomp):\n",
    "    # Get the number of modes used\n",
    "    temp = source_projections[0:num_modes]\n",
    "\n",
    "    # Matrix multiply those modes by their decomp values\n",
    "    temp = temp.T @ d\n",
    "\n",
    "    # Append\n",
    "    reconstructions_2.append(temp)\n",
    "\n",
    "reconstructions_2 = [i.reshape(166,166) for i in reconstructions_2]"
   ]
  },
  {
   "cell_type": "code",
   "execution_count": null,
   "id": "7dc8e069-2cc7-44f1-adc4-5b6ab244cb91",
   "metadata": {},
   "outputs": [],
   "source": [
    "fig, ax = plt.subplots(2, 3, figsize=(12, 8))\n",
    "\n",
    "f = fields[0].reshape(166,166)\n",
    "im0 = ax[0][0].imshow(f.real, cmap='viridis')\n",
    "divider = make_axes_locatable(ax[0][0])\n",
    "cax = divider.append_axes('right', size='5%', pad=0.05)\n",
    "cbar = fig.colorbar(im0, cax=cax, orientation='vertical')\n",
    "cbar.ax.tick_params(labelsize=14)\n",
    "ax[0][0].set_title(\"Truth (real)\")\n",
    "\n",
    "\n",
    "im1 = ax[1][0].imshow(f.imag, cmap='viridis')\n",
    "divider = make_axes_locatable(ax[1][0])\n",
    "cax = divider.append_axes('right', size='5%', pad=0.05)\n",
    "cbar = fig.colorbar(im1, cax=cax, orientation='vertical')\n",
    "cbar.ax.tick_params(labelsize=14)\n",
    "ax[1][0].set_title(\"Truth (imag)\")\n",
    "\n",
    "r = reconstructions_2[0].reshape(166,166)\n",
    "im2 = ax[0][1].imshow(r.real, cmap='viridis')\n",
    "divider = make_axes_locatable(ax[0][1])\n",
    "cax = divider.append_axes('right', size='5%', pad=0.05)\n",
    "cbar = fig.colorbar(im2, cax=cax, orientation='vertical')\n",
    "cbar.ax.tick_params(labelsize=14)\n",
    "ax[0][1].set_title(\"Recon (real)\")\n",
    "\n",
    "\n",
    "im3 = ax[1][1].imshow(r.imag, cmap='viridis')\n",
    "divider = make_axes_locatable(ax[1][1])\n",
    "cax = divider.append_axes('right', size='5%', pad=0.05)\n",
    "cbar = fig.colorbar(im3, cax=cax, orientation='vertical')\n",
    "cbar.ax.tick_params(labelsize=14)\n",
    "ax[1][1].set_title(\"Recon (imag)\")\n",
    "\n",
    "\n",
    "diff_real = f.real - r.real\n",
    "diff_imag = f.imag - r.imag\n",
    "\n",
    "im4 = ax[0][2].imshow(diff_real, cmap='viridis')\n",
    "divider = make_axes_locatable(ax[0][2])\n",
    "cax = divider.append_axes('right', size='5%', pad=0.05)\n",
    "cbar = fig.colorbar(im4, cax=cax, orientation='vertical')\n",
    "cbar.ax.tick_params(labelsize=14)\n",
    "ax[0][2].set_title(\"Diff (real)\")\n",
    "\n",
    "im5 = ax[1][2].imshow(diff_imag, cmap='viridis')\n",
    "divider = make_axes_locatable(ax[1][2])\n",
    "cax = divider.append_axes('right', size='5%', pad=0.05)\n",
    "cbar = fig.colorbar(im5, cax=cax, orientation='vertical')\n",
    "cbar.ax.tick_params(labelsize=14)\n",
    "ax[1][2].set_title(\"Diff (imag)\")\n",
    "\n",
    "for a in ax.flatten():\n",
    "    a.axis('off')"
   ]
  },
  {
   "cell_type": "code",
   "execution_count": null,
   "id": "8a98418f-4445-490b-af09-c127019177fd",
   "metadata": {},
   "outputs": [],
   "source": []
  }
 ],
 "metadata": {
  "kernelspec": {
   "display_name": "Python 3 (ipykernel)",
   "language": "python",
   "name": "python3"
  },
  "language_info": {
   "codemirror_mode": {
    "name": "ipython",
    "version": 3
   },
   "file_extension": ".py",
   "mimetype": "text/x-python",
   "name": "python",
   "nbconvert_exporter": "python",
   "pygments_lexer": "ipython3",
   "version": "3.10.12"
  }
 },
 "nbformat": 4,
 "nbformat_minor": 5
}
