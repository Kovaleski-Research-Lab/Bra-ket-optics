{
 "cells": [
  {
   "cell_type": "code",
   "execution_count": null,
   "id": "e36f6a48-3513-4295-bdc6-dbc1f6fa24c9",
   "metadata": {},
   "outputs": [],
   "source": [
    "import numpy as np\n",
    "import matplotlib.pyplot as plt\n",
    "import scipy\n",
    "import sympy\n",
    "from scipy.spatial.distance import cdist  # fast distance computation\n"
   ]
  },
  {
   "cell_type": "code",
   "execution_count": null,
   "id": "b4069f12-d878-4558-b191-49baa81b8f9a",
   "metadata": {},
   "outputs": [],
   "source": [
    "wavelength = 1\n",
    "Nsx = 17\n",
    "Nsy = 17\n",
    "ds = wavelength\n",
    "\n",
    "\n",
    "Lz = 50 * wavelength\n",
    "Nrx = 17\n",
    "Nry = 17\n",
    "k = 2 * np.pi / wavelength"
   ]
  },
  {
   "cell_type": "code",
   "execution_count": null,
   "id": "217f38d2-5de7-439c-a12b-5940fc4e6903",
   "metadata": {},
   "outputs": [],
   "source": [
    "def euclidean_distance(s, d) -> float:\n",
    "    # s -> source point\n",
    "    # d -> destination (receiving point)\n",
    "    s = np.asarray(s)\n",
    "    d = np.asarray(d)\n",
    "    return np.linalg.norm(d - s)\n",
    "\n",
    "\n",
    "def free_space_transfer_function(r_s, r_r, k) -> np.array:\n",
    "    # r_s -> matrix of source points, shape (Ns, 2)\n",
    "    # r_r -> matrix of recieving points, shape (Nr, 2)\n",
    "    # k -> wavenumber\n",
    "    # returns g -> matrix of floats, shape (Nr, Ns)\n",
    "    g = np.zeros((len(r_r), len(r_s)), dtype=complex)\n",
    "    for i, r in enumerate(r_r):\n",
    "        for j, s in enumerate(r_s):\n",
    "            d = euclidean_distance(s, r)\n",
    "            # Check for eq 39\n",
    "            if j == 2 and i == 0:\n",
    "                check_d = d\n",
    "            numerator = -np.exp(1j * k * d)\n",
    "            denominator = 4 * np.pi * d\n",
    "            g[i, j] = np.round(numerator / denominator, 5) # rounding here is questionable, but I need it for the checks\n",
    "    return g, check_d\n",
    "\n",
    "\n",
    "\n",
    "def free_space_transfer_function_3d(r_s, r_r, k) -> np.ndarray:\n",
    "    \"\"\"\n",
    "    Computes the 3D free-space Green's function between source and receiver points.\n",
    "\n",
    "    Args:\n",
    "        r_s (np.ndarray): Array of source points, shape (Ns, 3)\n",
    "        r_r (np.ndarray): Array of receiver points, shape (Nr, 3)\n",
    "        k (float): Wavenumber\n",
    "\n",
    "    Returns:\n",
    "        g (np.ndarray): Transfer function matrix of shape (Nr, Ns)\n",
    "        check_d (float): Distance for a specific check case (optional debug)\n",
    "    \"\"\"\n",
    "    r_s = np.asarray(r_s)\n",
    "    r_r = np.asarray(r_r)\n",
    "    g = np.zeros((len(r_r), len(r_s)), dtype=complex)\n",
    "\n",
    "    check_d = None\n",
    "    for i, r in enumerate(r_r):\n",
    "        for j, s in enumerate(r_s):\n",
    "            d = euclidean_distance(s, r)\n",
    "            if j == 2 and i == 0:\n",
    "                check_d = d\n",
    "            numerator = -np.exp(1j * k * d)\n",
    "            denominator = 4 * np.pi * d\n",
    "            #g[i, j] = np.round(numerator / denominator, 5)  # rounding may be unnecessary for production\n",
    "            g[i, j] = numerator / denominator\n",
    "    return g, check_d\n",
    "\n",
    "def free_space_transfer_function_3d_vectorized(r_s, r_r, k):\n",
    "    \"\"\"\n",
    "    Vectorized computation of the 3D free-space Green's function.\n",
    "\n",
    "    Args:\n",
    "        r_s (np.ndarray): Source points of shape (Ns, 3)\n",
    "        r_r (np.ndarray): Receiver points of shape (Nr, 3)\n",
    "        k (float): Wavenumber\n",
    "\n",
    "    Returns:\n",
    "        g (np.ndarray): Transfer function matrix of shape (Nr, Ns)\n",
    "    \"\"\"\n",
    "    # Ensure input shapes\n",
    "    r_s = np.asarray(r_s)  # (Ns, 3)\n",
    "    r_r = np.asarray(r_r)  # (Nr, 3)\n",
    "\n",
    "    # Compute pairwise distances: ||r_r[i] - r_s[j]|| for all i, j\n",
    "    # r_r[:, np.newaxis, :] shape: (Nr, 1, 3)\n",
    "    # r_s[np.newaxis, :, :] shape: (1, Ns, 3)\n",
    "    diffs = r_r[:, np.newaxis, :] - r_s[np.newaxis, :, :]  # shape: (Nr, Ns, 3)\n",
    "    dists = np.linalg.norm(diffs, axis=-1)  # shape: (Nr, Ns)\n",
    "\n",
    "    # Avoid division by zero (diagonal terms)\n",
    "    dists = np.where(dists == 0, 1e-10, dists)\n",
    "\n",
    "    # Compute Green's function: G = -exp(ikr) / (4πr)\n",
    "    g = -np.exp(1j * k * dists)\n",
    "    \n",
    "    g *= -1.0 / (4 * np.pi * dists)\n",
    "\n",
    "    return g\n",
    "\n",
    "def compute_greens_blockwise(r_s, r_r, k, block_size=8000):\n",
    "    Ns, Nr = len(r_s), len(r_r)\n",
    "    g = np.zeros((Nr, Ns), dtype=np.complex64)\n",
    "    for i in range(0, Nr, block_size):\n",
    "        r_r_block = r_r[i:i+block_size]\n",
    "        diffs = r_r_block[:, None, :] - r_s[None, :, :]\n",
    "        dists = np.linalg.norm(diffs, axis=-1)\n",
    "        dists = np.where(dists == 0, 1e-10, dists)\n",
    "        g_block = -np.exp(1j * k * dists) / (4 * np.pi * dists)\n",
    "        g[i:i+block_size] = g_block.astype(np.complex64)\n",
    "    return g\n",
    "\n",
    "\n",
    "def sum_rule(g: np.ndarray) -> float:\n",
    "    return np.linalg.norm(g, 'fro')**2\n",
    "\n",
    "\n",
    "def matprint(mat, fmt=\"g\"):\n",
    "    col_maxes = [max([len((\"{:\"+fmt+\"}\").format(x)) for x in col]) for col in mat.T]\n",
    "    for x in mat:\n",
    "        for i, y in enumerate(x):\n",
    "            print((\"{:\"+str(col_maxes[i])+fmt+\"}\").format(y), end=\"  \")\n",
    "        print(\"\")"
   ]
  },
  {
   "cell_type": "code",
   "execution_count": null,
   "id": "da72188c-3aa2-486e-bab2-e46ae078038d",
   "metadata": {},
   "outputs": [],
   "source": [
    "# sx = np.linspace(0, (Nsx * wavelength), Nsx)\n",
    "# sy = np.linspace(0, (Nsy * wavelength), Nsy)\n",
    "sx = np.asarray([ i * wavelength for i in range(Nsx)])\n",
    "sy = np.asarray([ i * wavelength for i in range(Nsy)])\n",
    "Sx, Sy = np.meshgrid(sx, sy)\n",
    "Sx = Sx.ravel()\n",
    "Sy = Sy.ravel()\n",
    "Sz = np.full_like(Sx, 0)\n",
    "source_points = np.stack([Sx, Sy, Sz], axis=-1)\n",
    "\n",
    "\n",
    "# rx = np.linspace(0, (Nrx * wavelength), Nrx)\n",
    "# ry = np.linspace(0, (Nry * wavelength), Nry)\n",
    "rx = np.asarray([i * wavelength for i in range(Nrx)])\n",
    "ry = np.asarray([i * wavelength for i in range(Nry)])\n",
    "\n",
    "Rx, Ry = np.meshgrid(rx, ry)\n",
    "Rx = Rx.ravel()\n",
    "Ry = Ry.ravel()\n",
    "Rz = np.full_like(Rx, Lz)\n",
    "receiver_points = np.stack([Rx, Ry, Rz], axis=-1)"
   ]
  },
  {
   "cell_type": "code",
   "execution_count": null,
   "id": "c5f60b74-8a6d-4b60-b80c-efcba1b6542d",
   "metadata": {},
   "outputs": [],
   "source": [
    "print(receiver_points)"
   ]
  },
  {
   "cell_type": "code",
   "execution_count": null,
   "id": "8647e2a7-851d-4122-996a-a10790a12c6b",
   "metadata": {},
   "outputs": [],
   "source": [
    "Gsr = free_space_transfer_function_3d_vectorized(source_points, receiver_points, k)\n",
    "Gsr_temp, _ = free_space_transfer_function_3d(source_points, receiver_points, k)\n",
    "Gsr_temp2 = compute_greens_blockwise(source_points, receiver_points, k)\n",
    "Gsr_temp3, _ = free_space_transfer_function(source_points, receiver_points, k)\n",
    "print(np.allclose(Gsr, Gsr_temp))\n",
    "print(np.allclose(Gsr, Gsr_temp2))\n",
    "print(np.allclose(Gsr_temp, Gsr_temp2))\n",
    "print(np.allclose(Gsr, Gsr_temp3))\n",
    "print(np.allclose(Gsr_temp, Gsr_temp3))\n",
    "# Gsr = free_space_transfer_function_3d_vectorized(source_points, receiver_points, k)\n",
    "# Gsr, _ = free_space_transfer_function_3d(source_points, receiver_points, k)\n",
    "Gsr = compute_greens_blockwise(source_points, receiver_points, k)\n",
    "# Gsr, _ = free_space_transfer_function(source_points, receiver_points, k)"
   ]
  },
  {
   "cell_type": "code",
   "execution_count": null,
   "id": "66b15093-4324-49ca-aa36-a2c54dc5322e",
   "metadata": {},
   "outputs": [],
   "source": [
    "print(Gsr_temp3.shape)\n",
    "print(Gsr.shape)"
   ]
  },
  {
   "cell_type": "code",
   "execution_count": null,
   "id": "7ca95d7c-5822-4b3a-b5c1-d7bea5bdd7b8",
   "metadata": {},
   "outputs": [],
   "source": [
    "S = sum_rule(Gsr)"
   ]
  },
  {
   "cell_type": "code",
   "execution_count": null,
   "id": "2ec66090-6826-430f-a7ce-3c2931359770",
   "metadata": {},
   "outputs": [],
   "source": [
    "print(S)"
   ]
  },
  {
   "cell_type": "code",
   "execution_count": null,
   "id": "13d276b5-0bde-4516-8759-56b6754b1313",
   "metadata": {},
   "outputs": [],
   "source": [
    "from scipy.linalg import eigh\n",
    "\n",
    "Gsr_Gsrd = np.matmul(np.matrix.getH(Gsr), Gsr)\n",
    "eig_vals, eig_vect = np.linalg.eigh(Gsr_Gsrd)\n",
    "eig_vect = np.round(eig_vect,4)\n",
    "eig_vals = np.round(eig_vals, 6)"
   ]
  },
  {
   "cell_type": "code",
   "execution_count": null,
   "id": "6ba6c39f-ce73-4f2b-bb65-042eca205434",
   "metadata": {},
   "outputs": [],
   "source": [
    "plt.bar(range(20), (eig_vals[0:20]/S)*100)"
   ]
  },
  {
   "cell_type": "code",
   "execution_count": null,
   "id": "93d16fc6-c11e-4215-a1a0-e7d15bd7545e",
   "metadata": {},
   "outputs": [],
   "source": [
    "print(eig_vals[0:20])"
   ]
  },
  {
   "cell_type": "code",
   "execution_count": null,
   "id": "0e3df104-f117-40b6-92f5-e4dcbb133ed1",
   "metadata": {},
   "outputs": [],
   "source": [
    "print(eig_vect.shape)"
   ]
  },
  {
   "cell_type": "code",
   "execution_count": null,
   "id": "f8b1d91c-d3b1-4afa-bc3c-cf25ea40b1a8",
   "metadata": {},
   "outputs": [],
   "source": [
    "# Choose the central phase to be zero, normalize by it\n",
    "def normalize_phase(eigenvector):\n",
    "    # Choose middle index (zero-based)\n",
    "    mid_idx = len(eigenvector) // 2\n",
    "    # Extract phase of the middle entry\n",
    "    phase = np.angle(eigenvector[mid_idx])\n",
    "    # Normalize eigenvector by this phase\n",
    "    return eigenvector * np.exp(-1j * phase)\n",
    "\n",
    "\n",
    "#Normalize each eigenvector's phase\n",
    "normalized_eigenvectors = np.column_stack([\n",
    "    normalize_phase(eig_vect[:, j])\n",
    "    for j in range(eig_vect.shape[1])\n",
    "])\n",
    "\n",
    "#normalized_eigenvectors = eig_vect"
   ]
  },
  {
   "cell_type": "code",
   "execution_count": null,
   "id": "a86a4ec2-a96f-4708-8259-bef2c7c7c5fc",
   "metadata": {},
   "outputs": [],
   "source": [
    "dest_x = np.linspace(0, (Nrx * wavelength), 100)\n",
    "dest_y = np.linspace(0, (Nry * wavelength), 100)\n",
    "\n",
    "Dest_x, Dest_y = np.meshgrid(dest_x, dest_y)\n",
    "Dest_x = Dest_x.ravel()\n",
    "Dest_y = Dest_y.ravel()\n",
    "Dest_z = np.full_like(Dest_x, Lz)\n",
    "dest_points = np.stack([Dest_x,Dest_y, Dest_z], axis=-1)"
   ]
  },
  {
   "cell_type": "code",
   "execution_count": null,
   "id": "68308953-e652-4b0b-a873-961811cbb336",
   "metadata": {},
   "outputs": [],
   "source": [
    "# Convert to arrays if they aren't already\n",
    "source_points = np.asarray(source_points)\n",
    "dest_points = np.asarray(dest_points)\n",
    "normalized_eigenvectors = np.asarray(normalized_eigenvectors)\n",
    "\n",
    "# Precompute all pairwise distances: shape (num_dest, num_source)\n",
    "distances = cdist(dest_points, source_points)  # much faster than nested loops\n",
    "\n",
    "# Precompute Green's function kernel (excluding eigenvector weighting)\n",
    "greens_kernel = np.exp(1j * k * distances) / distances  # shape: (num_dest, num_source)\n",
    "\n",
    "# Apply the integral and eigenvector projection\\\n",
    "# Transpose normalized_eigenvectors to shape (num_modes, num_source)\n",
    "projected = greens_kernel @ normalized_eigenvectors  # shape: (num_dest, num_modes)\n",
    "\n",
    "# Multiply by constants and reshape to match original output (num_modes, num_dest)\n",
    "scale_factor = (-1 / (4 * np.pi)) * np.sqrt(dest_points[:,-1])\n",
    "values = scale_factor * projected.T # shape: (num_modes, num_dest)\n"
   ]
  },
  {
   "cell_type": "code",
   "execution_count": null,
   "id": "d989841a-1ec3-4849-8966-29432d9bf36d",
   "metadata": {},
   "outputs": [],
   "source": [
    "values = values.reshape(len(normalized_eigenvectors), 100, 100)\n",
    "#values = np.swapaxes(values, -1, -2)"
   ]
  },
  {
   "cell_type": "code",
   "execution_count": null,
   "id": "6eae5785-2708-4b44-a529-ae0249b4f6aa",
   "metadata": {},
   "outputs": [],
   "source": [
    "print(values.shape)"
   ]
  },
  {
   "cell_type": "code",
   "execution_count": null,
   "id": "d6b17003-69a8-4e2d-94f1-7c9b6f4a672f",
   "metadata": {},
   "outputs": [],
   "source": [
    "plt.imshow(np.real(values[0]), cmap='jet')"
   ]
  },
  {
   "cell_type": "code",
   "execution_count": null,
   "id": "95ba31ef-4339-4148-aade-2f3bf69b42d2",
   "metadata": {
    "scrolled": true
   },
   "outputs": [],
   "source": [
    "np.allclose(dest_points, receiver_points)"
   ]
  },
  {
   "cell_type": "code",
   "execution_count": null,
   "id": "8f37bd9b-904f-4f34-a24d-09968f3ddbee",
   "metadata": {},
   "outputs": [],
   "source": [
    "source_points"
   ]
  },
  {
   "cell_type": "code",
   "execution_count": null,
   "id": "646b50c6-5341-469a-abfd-140b9b97a2e5",
   "metadata": {},
   "outputs": [],
   "source": [
    "dest_points"
   ]
  },
  {
   "cell_type": "code",
   "execution_count": null,
   "id": "320f6779-6f5d-4e40-b224-d5c2a98c8770",
   "metadata": {},
   "outputs": [],
   "source": []
  }
 ],
 "metadata": {
  "kernelspec": {
   "display_name": "Python 3 (ipykernel)",
   "language": "python",
   "name": "python3"
  },
  "language_info": {
   "codemirror_mode": {
    "name": "ipython",
    "version": 3
   },
   "file_extension": ".py",
   "mimetype": "text/x-python",
   "name": "python",
   "nbconvert_exporter": "python",
   "pygments_lexer": "ipython3",
   "version": "3.12.4"
  }
 },
 "nbformat": 4,
 "nbformat_minor": 5
}
