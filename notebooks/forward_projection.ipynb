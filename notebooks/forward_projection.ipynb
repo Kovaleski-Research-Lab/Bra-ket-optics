{
 "cells": [
  {
   "cell_type": "code",
   "execution_count": null,
   "id": "14417d6d-ae9c-4c21-ad21-8ccda9a75816",
   "metadata": {},
   "outputs": [],
   "source": [
    "import numpy as np\n",
    "import pickle\n",
    "import sys\n",
    "import matplotlib.pyplot as plt\n",
    "import h5py\n",
    "import yaml\n",
    "sys.path.append('../')\n",
    "from src.eig import *\n",
    "from src.geometry import *\n",
    "from src.utils import *"
   ]
  },
  {
   "cell_type": "code",
   "execution_count": null,
   "id": "9864fe7e-d982-4e0f-9409-af7394149475",
   "metadata": {},
   "outputs": [],
   "source": [
    "# Load in the eigenvectors\n",
    "eig_values = pickle.load(open('../eigen_values_all.pkl', 'rb'))\n",
    "eig_vector_receiver, eig_vector_source = pickle.load(open('../eigen_vectors_all.pkl', 'rb'))\n",
    "modes = pickle.load(open(\"../evaluated_modes_all.pkl\", 'rb'))"
   ]
  },
  {
   "cell_type": "code",
   "execution_count": null,
   "id": "d8b2d7f2-35ba-4ad6-8a3d-ac9896e025b3",
   "metadata": {},
   "outputs": [],
   "source": [
    "volume_data = pickle.load(open('../../../data/meep-dataset-v2/volumes/0000.pkl', 'rb'))[1.55][1]"
   ]
  },
  {
   "cell_type": "code",
   "execution_count": null,
   "id": "dca4fdcf-b670-4a9a-879d-57397f9bcb90",
   "metadata": {},
   "outputs": [],
   "source": [
    "real_field = volume_data[0]\n",
    "imag_field = volume_data[1]\n",
    "field = real_field + 1j* imag_field"
   ]
  },
  {
   "cell_type": "code",
   "execution_count": null,
   "id": "2ea03db4-3e6e-4f39-809a-f0c34daf99fe",
   "metadata": {},
   "outputs": [],
   "source": [
    "first_slice = field[:,:,30]\n",
    "last_slice = field[:,:,-1]"
   ]
  },
  {
   "cell_type": "code",
   "execution_count": null,
   "id": "04a18e33-3c27-421f-bd48-b0deb0cbeff9",
   "metadata": {},
   "outputs": [],
   "source": [
    "fig,ax = plt.subplots(1,2, figsize=(10,5))\n",
    "ax[0].imshow(np.abs(first_slice))\n",
    "ax[1].imshow(np.abs(last_slice))"
   ]
  },
  {
   "cell_type": "code",
   "execution_count": null,
   "id": "35c1f28d-ef32-4226-89f0-cc533bf7f470",
   "metadata": {},
   "outputs": [],
   "source": [
    "config = yaml.load(open('../config.yaml', 'r'), Loader=yaml.FullLoader)\n",
    "config['receiver']['center'] = [0,0,405.95]"
   ]
  },
  {
   "cell_type": "code",
   "execution_count": null,
   "id": "ef4e7d0c-d5e8-4c13-9c89-c311c7d4578e",
   "metadata": {},
   "outputs": [],
   "source": [
    "config['receiver']"
   ]
  },
  {
   "cell_type": "code",
   "execution_count": null,
   "id": "a16d3b01-bf13-479e-a061-e9ccb023b130",
   "metadata": {},
   "outputs": [],
   "source": [
    "source_points = create_points(config['source'])\n",
    "receiver_points = create_points(config['receiver'])\n",
    "print(\"Source points shape:\", source_points.shape)\n",
    "print(\"Receiver points shape:\", receiver_points.shape)\n",
    "wavelength = config['wavelength']\n",
    "wavenumber = 2 * np.pi / wavelength\n",
    "# Compute transfer matrix\n",
    "Gsr = free_space_transfer_function(source_points, receiver_points, wavenumber, method='blockwise')"
   ]
  },
  {
   "cell_type": "code",
   "execution_count": null,
   "id": "c37bd987-1b53-434a-b7cc-c128ab305e2d",
   "metadata": {},
   "outputs": [],
   "source": [
    "S = sum_rule(Gsr)\n",
    "print(\"S:\", S)"
   ]
  },
  {
   "cell_type": "code",
   "execution_count": null,
   "id": "f7734fba-ac1e-4ed4-ad0d-2d6a02fd9706",
   "metadata": {},
   "outputs": [],
   "source": [
    "projection = forward_projection(first_slice.flatten(), Gsr).reshape(166,166)"
   ]
  },
  {
   "cell_type": "code",
   "execution_count": null,
   "id": "9ad32336-e0ce-407c-a205-1a71a05f9f5b",
   "metadata": {},
   "outputs": [],
   "source": [
    "plt.imshow(np.abs(projection))"
   ]
  },
  {
   "cell_type": "code",
   "execution_count": null,
   "id": "433d55ca-e8f4-4dd2-9a5d-f01a8903e2de",
   "metadata": {},
   "outputs": [],
   "source": [
    "plt.imshow(np.abs(last_slice))"
   ]
  },
  {
   "cell_type": "code",
   "execution_count": null,
   "id": "cfb3f55b-afa7-42cb-b065-235cb4c95878",
   "metadata": {},
   "outputs": [],
   "source": [
    "Gsr.shape"
   ]
  },
  {
   "cell_type": "code",
   "execution_count": null,
   "id": "4b0bcc70-e7d6-4006-aff5-90e36c47739b",
   "metadata": {},
   "outputs": [],
   "source": [
    "test = (Gsr @ first_slice.flatten()).reshape(166,166)"
   ]
  },
  {
   "cell_type": "code",
   "execution_count": null,
   "id": "47ef2c7f-c1c7-4997-98d9-b6df08dfe06e",
   "metadata": {},
   "outputs": [],
   "source": [
    "plt.imshow(np.abs(test))"
   ]
  },
  {
   "cell_type": "code",
   "execution_count": null,
   "id": "d6732d4d-a8c3-4672-9e52-5c3d77f01f9f",
   "metadata": {},
   "outputs": [],
   "source": [
    "(775/63)*30"
   ]
  },
  {
   "cell_type": "code",
   "execution_count": null,
   "id": "c0087c20-c850-4832-a30d-44500ad00825",
   "metadata": {},
   "outputs": [],
   "source": [
    "775 - (775/63)*30"
   ]
  },
  {
   "cell_type": "code",
   "execution_count": null,
   "id": "b7d44ab0-440f-4805-9b54-cdfc057a7493",
   "metadata": {},
   "outputs": [],
   "source": [
    "775/63"
   ]
  },
  {
   "cell_type": "code",
   "execution_count": null,
   "id": "9347c2b1-176a-437a-b83f-f21c032aba05",
   "metadata": {},
   "outputs": [],
   "source": []
  }
 ],
 "metadata": {
  "kernelspec": {
   "display_name": "Python 3 (ipykernel)",
   "language": "python",
   "name": "python3"
  },
  "language_info": {
   "codemirror_mode": {
    "name": "ipython",
    "version": 3
   },
   "file_extension": ".py",
   "mimetype": "text/x-python",
   "name": "python",
   "nbconvert_exporter": "python",
   "pygments_lexer": "ipython3",
   "version": "3.12.3"
  }
 },
 "nbformat": 4,
 "nbformat_minor": 5
}
