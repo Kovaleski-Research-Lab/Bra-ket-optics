{
 "cells": [
  {
   "cell_type": "code",
   "execution_count": null,
   "id": "378211ee-d368-4461-846f-b1c2da5d49db",
   "metadata": {},
   "outputs": [],
   "source": [
    "import numpy as np\n",
    "import matplotlib.pyplot as plt\n",
    "import pint\n",
    "u = pint.UnitRegistry()"
   ]
  },
  {
   "cell_type": "code",
   "execution_count": null,
   "id": "b913daeb-f1f3-41af-be67-0ec4cdfe1422",
   "metadata": {},
   "outputs": [],
   "source": [
    "# Source plane\n",
    "dxs = 8e-6\n",
    "dys = 8e-6\n",
    "\n",
    "Lxs = 8e-3\n",
    "Lys = 8e-3\n",
    "\n",
    "# Reciever plane\n",
    "dxr = 8e-6\n",
    "dyr = 8e-6\n",
    "\n",
    "Lxr = 8e-3\n",
    "Lyr = 8e-3\n",
    "\n",
    "# Others\n",
    "wavelength = 520e-9\n",
    "\n",
    "z = 200e-3"
   ]
  },
  {
   "cell_type": "code",
   "execution_count": null,
   "id": "c2394b97-0de5-453e-84d8-241a646599bc",
   "metadata": {},
   "outputs": [],
   "source": [
    "Nh = (Lxs * Lys) * (Lxr * Lyr) / (wavelength**2 * z**2)"
   ]
  },
  {
   "cell_type": "code",
   "execution_count": null,
   "id": "8627e1a6-8431-4fca-98b7-628eaf37cf90",
   "metadata": {},
   "outputs": [],
   "source": [
    "print(Nh)"
   ]
  },
  {
   "cell_type": "markdown",
   "id": "de78b164-6fa5-487a-af2d-8b254df849cf",
   "metadata": {},
   "source": [
    "## Z sweep"
   ]
  },
  {
   "cell_type": "code",
   "execution_count": null,
   "id": "b0e8ba16-95a7-423e-ab8c-3db0d2758d67",
   "metadata": {},
   "outputs": [],
   "source": [
    "z = np.linspace(1e-3, 100, 1000)\n",
    "Nh = Nh = (Lxs * Lys) * (Lxr * Lyr) / (wavelength**2 * z**2)"
   ]
  },
  {
   "cell_type": "code",
   "execution_count": null,
   "id": "c4a4a537-ac1e-4289-92d6-1fb0941b4f40",
   "metadata": {},
   "outputs": [],
   "source": [
    "print(np.min(Nh))"
   ]
  },
  {
   "cell_type": "code",
   "execution_count": null,
   "id": "516030cc-20f5-43d5-97f7-3ab612237ba0",
   "metadata": {},
   "outputs": [],
   "source": [
    "plt.plot(z, Nh)\n",
    "plt.hlines(xmin=z[0], xmax=z[-1], y = 1)\n",
    "plt.yscale('log')"
   ]
  },
  {
   "cell_type": "code",
   "execution_count": null,
   "id": "1d57763b-ec22-4378-a0ab-0207f74642ee",
   "metadata": {},
   "outputs": [],
   "source": []
  }
 ],
 "metadata": {
  "kernelspec": {
   "display_name": "Python 3 (ipykernel)",
   "language": "python",
   "name": "python3"
  },
  "language_info": {
   "codemirror_mode": {
    "name": "ipython",
    "version": 3
   },
   "file_extension": ".py",
   "mimetype": "text/x-python",
   "name": "python",
   "nbconvert_exporter": "python",
   "pygments_lexer": "ipython3",
   "version": "3.11.5"
  }
 },
 "nbformat": 4,
 "nbformat_minor": 5
}
