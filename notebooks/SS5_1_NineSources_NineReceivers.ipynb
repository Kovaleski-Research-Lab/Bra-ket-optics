{
 "cells": [
  {
   "cell_type": "code",
   "execution_count": 1,
   "id": "2d930095-5be5-4ab7-8235-c4a8a7242a3c",
   "metadata": {},
   "outputs": [],
   "source": [
    "import numpy as np\n",
    "import matplotlib.pyplot as plt\n",
    "import scipy\n",
    "import sympy"
   ]
  },
  {
   "cell_type": "code",
   "execution_count": 2,
   "id": "b9a3f55b-6408-436e-bc15-915006d0ce79",
   "metadata": {},
   "outputs": [],
   "source": [
    "wavelength = 1\n",
    "Ns = 9\n",
    "dy = 2 * wavelength\n",
    "Lz = 5 * wavelength\n",
    "Nr = 9\n",
    "k = 2 * np.pi / wavelength"
   ]
  },
  {
   "cell_type": "code",
   "execution_count": null,
   "id": "01b51e3f-14fc-48c4-9b9a-b843927b1964",
   "metadata": {},
   "outputs": [],
   "source": []
  }
 ],
 "metadata": {
  "kernelspec": {
   "display_name": "Python 3 (ipykernel)",
   "language": "python",
   "name": "python3"
  },
  "language_info": {
   "codemirror_mode": {
    "name": "ipython",
    "version": 3
   },
   "file_extension": ".py",
   "mimetype": "text/x-python",
   "name": "python",
   "nbconvert_exporter": "python",
   "pygments_lexer": "ipython3",
   "version": "3.11.5"
  }
 },
 "nbformat": 4,
 "nbformat_minor": 5
}
