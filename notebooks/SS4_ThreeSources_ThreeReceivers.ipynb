{
 "cells": [
  {
   "cell_type": "code",
   "execution_count": 1,
   "id": "f4017888-28a9-475e-a56d-73586261526f",
   "metadata": {},
   "outputs": [],
   "source": [
    "import numpy as np\n",
    "import matplotlib.pyplot as plt\n",
    "import scipy\n",
    "import sympy"
   ]
  },
  {
   "cell_type": "code",
   "execution_count": 2,
   "id": "768c1c07-a863-4bdb-b9c2-652e3fc6382c",
   "metadata": {},
   "outputs": [],
   "source": [
    "wavelength = 1\n",
    "Ns = 3\n",
    "dy = 2 * wavelength\n",
    "Lz = 5 * wavelength\n",
    "Nr = 3\n",
    "k = 2 * np.pi / wavelength"
   ]
  },
  {
   "cell_type": "code",
   "execution_count": 6,
   "id": "d7ee76c4-568d-4181-a64f-18a2ba5c8b0e",
   "metadata": {},
   "outputs": [],
   "source": [
    "def euclidean_distance(s, d) -> float:\n",
    "    # s -> source point\n",
    "    # d -> destination (receiving point)\n",
    "    s = np.asarray(s)\n",
    "    d = np.asarray(d)\n",
    "    return np.linalg.norm(s - d)\n",
    "\n",
    "def free_space_transfer_function(r_s, r_r, k) -> np.array:\n",
    "    # r_s -> matrix of source points, shape (Ns, 2)\n",
    "    # r_r -> matrix of recieving points, shape (Nr, 2)\n",
    "    # k -> wavenumber\n",
    "    # returns g -> matrix of floats, shape (Nr, Ns)\n",
    "    g = np.zeros((len(r_r), len(r_s)), dtype=complex)\n",
    "    for i, r in enumerate(r_r):\n",
    "        for j, s in enumerate(r_s):\n",
    "            d = euclidean_distance(s, r)\n",
    "            # Check for eq 39\n",
    "            if j == 2 and i == 0:\n",
    "                check_d = d\n",
    "            numerator = -np.exp(1j * k * d)\n",
    "            denominator = 4 * np.pi * d\n",
    "            g[i,j] = np.round(numerator / denominator, 5) # rounding here is questionable, but I need it for the checks\n",
    "    return g, check_d\n",
    "\n",
    "def sum_rule(g: np.ndarray) -> float:\n",
    "    return np.linalg.norm(g, 'fro')**2\n",
    "\n",
    "def matprint(mat, fmt=\"g\"):\n",
    "    col_maxes = [max([len((\"{:\"+fmt+\"}\").format(x)) for x in col]) for col in mat.T]\n",
    "    for x in mat:\n",
    "        for i, y in enumerate(x):\n",
    "            print((\"{:\"+str(col_maxes[i])+fmt+\"}\").format(y), end=\"  \")\n",
    "        print(\"\")"
   ]
  },
  {
   "cell_type": "code",
   "execution_count": 7,
   "id": "58edbd85-fa9a-4a7e-9be9-334f97c67237",
   "metadata": {},
   "outputs": [
    {
     "name": "stdout",
     "output_type": "stream",
     "text": [
      "True\n",
      "True\n",
      "[[ 1.  -0.j   -0.7 +0.61j -0.64+0.45j]\n",
      " [-0.7 +0.61j  1.  -0.j   -0.7 +0.61j]\n",
      " [-0.64+0.45j -0.7 +0.61j  1.  -0.j  ]]\n"
     ]
    }
   ],
   "source": [
    "s = np.asarray([(0, i * 2 * wavelength) for i in range(Ns)])\n",
    "d = np.asarray([(5 * wavelength, i * 2 * wavelength) for i in range(Nr)])\n",
    "Gsr, check_d = free_space_transfer_function(s, d, k)\n",
    "\n",
    "# eq 39 check\n",
    "print(np.allclose(np.sqrt(41) * wavelength, check_d))\n",
    "\n",
    "# eq 40 check\n",
    "print(np.allclose((0.01020 - 1j*0.00711)/wavelength, Gsr[0,2]))\n",
    "\n",
    "# Convert to units of wavelength\n",
    "gsr = np.round(-4 * np.pi * Lz, 2)\n",
    "gsr_Gsr = np.round(gsr*Gsr, 2)\n",
    "\n",
    "# Compares to eq 43\n",
    "print(gsr_Gsr)"
   ]
  },
  {
   "cell_type": "code",
   "execution_count": 8,
   "id": "4e48b9a2-29ec-43fd-869d-b7fd75d4cca5",
   "metadata": {},
   "outputs": [
    {
     "name": "stdout",
     "output_type": "stream",
     "text": [
      "(3, 3)\n"
     ]
    }
   ],
   "source": [
    "print(Gsr.shape)"
   ]
  },
  {
   "cell_type": "code",
   "execution_count": 9,
   "id": "5d7c8775-30a0-4857-a855-f40e845375c3",
   "metadata": {},
   "outputs": [
    {
     "name": "stdout",
     "output_type": "stream",
     "text": [
      "True\n"
     ]
    }
   ],
   "source": [
    "S = sum_rule(Gsr)\n",
    "\n",
    "# eq 44 check\n",
    "print(np.allclose(S, 7.67 / gsr**2, atol=1e-6))"
   ]
  },
  {
   "cell_type": "code",
   "execution_count": 6,
   "id": "6a23a3b2-37c5-4255-9c9d-12a37b9e7a4a",
   "metadata": {},
   "outputs": [
    {
     "name": "stdout",
     "output_type": "stream",
     "text": [
      "True\n"
     ]
    }
   ],
   "source": [
    "gsr_Gsrd_Gsr = np.round(gsr**2 * np.matmul(np.matrix.getH(Gsr), Gsr), 2)\n",
    "\n",
    "temp = np.array(\n",
    "    [[2.47, -0.67 - 1j*0.08, -0.42],\n",
    "    [-0.67 + 1j*0.08, 2.72, -0.67 + 1j*0.08],\n",
    "    [-0.42, -0.67 - 1j*0.08, 2.47]], dtype=complex)\n",
    "\n",
    "# eq 45 check\n",
    "print(np.allclose(gsr_Gsrd_Gsr, temp))\n"
   ]
  },
  {
   "cell_type": "code",
   "execution_count": 7,
   "id": "3eeffa9c-3584-4aee-be97-7b04e4b52339",
   "metadata": {},
   "outputs": [
    {
     "name": "stdout",
     "output_type": "stream",
     "text": [
      "True\n"
     ]
    }
   ],
   "source": [
    "# Check that gsr_Gsrd_Gsr is Hermetian\n",
    "temp = np.matrix.getH(gsr_Gsrd_Gsr)\n",
    "print((temp == gsr_Gsrd_Gsr).all())"
   ]
  },
  {
   "cell_type": "code",
   "execution_count": 16,
   "id": "9ba21373-3fa7-46a8-a075-59e3edfeb171",
   "metadata": {},
   "outputs": [
    {
     "name": "stdout",
     "output_type": "stream",
     "text": [
      "True\n"
     ]
    }
   ],
   "source": [
    "# Now for eigenvalues / eigenvectors\n",
    "Gsrd_Gsr = np.matmul(np.matrix.getH(Gsr), Gsr)\n",
    "Gsr_Gsrd = np.matmul(Gsr, np.matrix.getH(Gsr))\n",
    "from scipy.linalg import eigh\n",
    "eig_vals_0, eig_vect_0 = eigh(Gsrd_Gsr)\n",
    "eig_vals_1, eig_vect_1 = np.linalg.eigh(Gsrd_Gsr)\n",
    "eig_vals_2, eig_vect_2 = np.linalg.eigh(Gsr_Gsrd)\n",
    "print(np.allclose(eig_vals_0, eig_vals_1))\n",
    "\n",
    "# Both scipy and np return the eigen values in opposite order\n",
    "eig_vals_0 = np.round(np.flip(eig_vals_0), 5)\n",
    "eig_vect_0 = np.round(np.flip(eig_vect_0), 2)\n",
    "\n",
    "eig_vals_1 = np.round(np.flip(eig_vals_1), 5)\n",
    "eig_vect_1 = np.round(np.flip(eig_vect_1), 2)\n",
    "\n",
    "eig_vals_2 = np.round(np.flip(eig_vals_2), 5)\n",
    "eig_vect_2 = np.round(np.flip(eig_vect_2), 2)"
   ]
  },
  {
   "cell_type": "code",
   "execution_count": 17,
   "id": "5bb8b11d-4416-4c1a-99c8-986a42cf3c47",
   "metadata": {},
   "outputs": [
    {
     "name": "stdout",
     "output_type": "stream",
     "text": [
      "   0.41+0j  -0.71-0j     -0.58+0j  \n",
      "-0.81+0.1j      0+0j  -0.57+0.07j  \n",
      "   0.41+0j   0.71+0j     -0.58+0j  \n",
      "\n",
      "   0.41-0j  -0.71+0j     -0.58-0j  \n",
      "-0.81-0.1j      0+0j  -0.57-0.07j  \n",
      "   0.41+0j   0.71+0j     -0.58+0j  \n"
     ]
    }
   ],
   "source": [
    "matprint(eig_vect_1)\n",
    "print()\n",
    "matprint(eig_vect_2)"
   ]
  },
  {
   "cell_type": "code",
   "execution_count": 10,
   "id": "06a7b6e2-aabb-4287-97db-e97cd2180258",
   "metadata": {},
   "outputs": [
    {
     "name": "stdout",
     "output_type": "stream",
     "text": [
      "True\n",
      "True\n"
     ]
    }
   ],
   "source": [
    "# eq 46 check\n",
    "temp = np.round(np.asarray([3.41, 2.89, 1.37]) / gsr**2, 5)\n",
    "print(np.allclose(eig_vals_0, temp))\n",
    "print(np.allclose(eig_vals_2, temp))"
   ]
  },
  {
   "cell_type": "code",
   "execution_count": 11,
   "id": "d279d4cd-eecb-4b84-96eb-7d5b327f2acd",
   "metadata": {},
   "outputs": [
    {
     "name": "stdout",
     "output_type": "stream",
     "text": [
      "True\n",
      "True\n"
     ]
    }
   ],
   "source": [
    "# eq 47 check\n",
    "temp = np.round(np.sum(eig_vals_0), 5)\n",
    "print(np.allclose(np.round(S, 5), np.round(temp, 5)))\n",
    "\n",
    "temp = np.round(np.sum(eig_vals_2), 5)\n",
    "print(np.allclose(np.round(S, 5), np.round(temp, 5)))"
   ]
  },
  {
   "cell_type": "code",
   "execution_count": 12,
   "id": "1b73459a-a0af-4145-99a8-3c7ebfac6cfc",
   "metadata": {},
   "outputs": [
    {
     "name": "stdout",
     "output_type": "stream",
     "text": [
      "[[-0.41-0.j   -0.71-0.j   -0.58+0.j  ]\n",
      " [ 0.81-0.1j  -0.  +0.j   -0.57+0.07j]\n",
      " [-0.41-0.j    0.71+0.j   -0.58-0.j  ]]\n",
      "\n",
      "[[ 0.41-0.j   -0.71+0.j   -0.58-0.j  ]\n",
      " [-0.81-0.1j   0.  +0.j   -0.57-0.07j]\n",
      " [ 0.41+0.j    0.71+0.j   -0.58+0.j  ]]\n"
     ]
    }
   ],
   "source": [
    "# eq 48 check\n",
    "print(eig_vect_0)\n",
    "print()\n",
    "print(eig_vect_2)\n",
    "\n",
    "# Here, the first eigenvectors are out of phase with what is shown in the paper.\n",
    "# This is mentioned in the note 138 of the references. However, the second ones\n",
    "# are the same phase. IDK."
   ]
  },
  {
   "cell_type": "code",
   "execution_count": null,
   "id": "25869ca3-9d70-4714-b40c-662dad4728b9",
   "metadata": {},
   "outputs": [],
   "source": []
  }
 ],
 "metadata": {
  "kernelspec": {
   "display_name": "Python 3 (ipykernel)",
   "language": "python",
   "name": "python3"
  },
  "language_info": {
   "codemirror_mode": {
    "name": "ipython",
    "version": 3
   },
   "file_extension": ".py",
   "mimetype": "text/x-python",
   "name": "python",
   "nbconvert_exporter": "python",
   "pygments_lexer": "ipython3",
   "version": "3.13.0"
  }
 },
 "nbformat": 4,
 "nbformat_minor": 5
}
