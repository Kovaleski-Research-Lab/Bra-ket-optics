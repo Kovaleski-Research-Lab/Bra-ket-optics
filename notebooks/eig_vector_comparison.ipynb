{
 "cells": [
  {
   "cell_type": "code",
   "execution_count": null,
   "id": "f01d5c16-0b9c-4a52-a6a3-d1d2d2d10eb0",
   "metadata": {},
   "outputs": [],
   "source": [
    "import pickle\n",
    "import numpy as np"
   ]
  },
  {
   "cell_type": "code",
   "execution_count": null,
   "id": "3a586acd-e6a4-4481-832f-abe72450b9e3",
   "metadata": {},
   "outputs": [],
   "source": [
    "# Load in the eigenvectors\n",
    "_, A = pickle.load(open('../eigen_vectors_all.pkl', 'rb'))\n",
    "_, B = pickle.load(open('../eigen_vectors_all_close.pkl', 'rb'))"
   ]
  },
  {
   "cell_type": "code",
   "execution_count": null,
   "id": "96cf9c0a-5e12-44c8-89e7-e25e5736be5c",
   "metadata": {},
   "outputs": [],
   "source": [
    "A_normed = A / np.linalg.norm(A, axis=0, keepdims=True)\n",
    "B_normed = B / np.linalg.norm(B, axis=0, keepdims=True)"
   ]
  },
  {
   "cell_type": "code",
   "execution_count": null,
   "id": "b0c89bc8-afca-4f38-82d8-166518a175dc",
   "metadata": {},
   "outputs": [],
   "source": [
    "similarity_matrix = np.abs(B_normed.conj().T @ A_normed)"
   ]
  },
  {
   "cell_type": "code",
   "execution_count": null,
   "id": "c7a2c2e6-0d96-40b3-a3e0-d4749db95be3",
   "metadata": {},
   "outputs": [],
   "source": [
    "max_similarities = similarity_matrix.max(axis=0)"
   ]
  },
  {
   "cell_type": "code",
   "execution_count": null,
   "id": "e8edfe89-2095-4001-9623-0909d0a4eef8",
   "metadata": {},
   "outputs": [],
   "source": [
    "threshold = 0.8\n",
    "match_indices = np.argwhere(similarity_matrix > threshold)"
   ]
  },
  {
   "cell_type": "code",
   "execution_count": null,
   "id": "c295f345-6a1f-4929-9915-3f8a45840eca",
   "metadata": {},
   "outputs": [],
   "source": [
    "match_indices"
   ]
  },
  {
   "cell_type": "code",
   "execution_count": null,
   "id": "2193b4cc-8741-41fb-8d07-e7c92ee7d8de",
   "metadata": {},
   "outputs": [],
   "source": [
    "# Normalize rows of A and B\n",
    "A_row_norms = np.linalg.norm(A, axis=1, keepdims=True)\n",
    "B_row_norms = np.linalg.norm(B, axis=1, keepdims=True)\n",
    "\n",
    "# Avoid division by zero\n",
    "A_normed = A / np.where(A_row_norms == 0, 1, A_row_norms)\n",
    "B_normed = B / np.where(B_row_norms == 0, 1, B_row_norms)\n",
    "# Each entry [i, j] is the cosine similarity between A[i, :] and B[j, :]\n",
    "similarity_matrix = np.abs(A_normed @ B_normed.conj().T)  # shape (27556, 27556)\n",
    "\n"
   ]
  },
  {
   "cell_type": "code",
   "execution_count": null,
   "id": "d255776c-a948-4e6d-9f67-cdbd3bb5e5ce",
   "metadata": {},
   "outputs": [],
   "source": [
    "# Find row pairs with similarity above a threshold\n",
    "threshold = 0.8\n",
    "match_indices = np.argwhere(similarity_matrix > threshold)\n",
    "print(match_indices)"
   ]
  },
  {
   "cell_type": "code",
   "execution_count": null,
   "id": "38686c44-9f58-467b-bb76-82539a9a3c74",
   "metadata": {},
   "outputs": [],
   "source": [
    "similarity_matrix"
   ]
  },
  {
   "cell_type": "code",
   "execution_count": null,
   "id": "4c889828-1639-490f-9c52-d96348871b79",
   "metadata": {},
   "outputs": [],
   "source": []
  }
 ],
 "metadata": {
  "kernelspec": {
   "display_name": "Python 3 (ipykernel)",
   "language": "python",
   "name": "python3"
  },
  "language_info": {
   "codemirror_mode": {
    "name": "ipython",
    "version": 3
   },
   "file_extension": ".py",
   "mimetype": "text/x-python",
   "name": "python",
   "nbconvert_exporter": "python",
   "pygments_lexer": "ipython3",
   "version": "3.12.3"
  }
 },
 "nbformat": 4,
 "nbformat_minor": 5
}
