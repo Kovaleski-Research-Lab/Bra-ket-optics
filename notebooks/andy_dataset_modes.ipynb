{
 "cells": [
  {
   "cell_type": "code",
   "execution_count": 1,
   "id": "3bd4334a-0e71-4e2f-9559-9abca726405b",
   "metadata": {},
   "outputs": [],
   "source": [
    "import numpy as np\n",
    "import matplotlib.pyplot as plt\n",
    "import scipy\n",
    "import sympy\n",
    "import torch"
   ]
  },
  {
   "cell_type": "code",
   "execution_count": 2,
   "id": "cca09c28-9a24-48d2-abdb-227c0eb6fad2",
   "metadata": {},
   "outputs": [],
   "source": [
    "wavelength = 1550\n",
    "k = 2 * np.pi / wavelength\n",
    "Lx = 2040\n",
    "Ly = 2040\n",
    "Nx = 166\n",
    "Ny = 166\n",
    "\n",
    "x = np.linspace(-Lx/2, Lx/2, Nx)\n",
    "y = np.linspace(-Ly/2, Ly/2, Ny)\n",
    "\n",
    "X,Y = np.meshgrid(x,y)\n",
    "\n",
    "z = np.linspace(1, 775, 100)"
   ]
  },
  {
   "cell_type": "code",
   "execution_count": 8,
   "id": "927c63c0-4997-49bd-b19e-58bb9aa4c2c3",
   "metadata": {},
   "outputs": [],
   "source": [
    "def euclidean_distance(s, d) -> float:\n",
    "    # s -> source point\n",
    "    # d -> destination (receiving point)\n",
    "    s = np.asarray(s)\n",
    "    d = np.asarray(d)\n",
    "    return np.linalg.norm(s - d)\n",
    "\n",
    "\n",
    "def free_space_transfer_function_3d(r_s, r_r, k) -> np.ndarray:\n",
    "    \"\"\"\n",
    "    Computes the 3D free-space Green's function between source and receiver points.\n",
    "\n",
    "    Args:\n",
    "        r_s (np.ndarray): Array of source points, shape (Ns, 3)\n",
    "        r_r (np.ndarray): Array of receiver points, shape (Nr, 3)\n",
    "        k (float): Wavenumber\n",
    "\n",
    "    Returns:\n",
    "        g (np.ndarray): Transfer function matrix of shape (Nr, Ns)\n",
    "        check_d (float): Distance for a specific check case (optional debug)\n",
    "    \"\"\"\n",
    "    r_s = np.asarray(r_s)\n",
    "    r_r = np.asarray(r_r)\n",
    "    g = np.zeros((len(r_r), len(r_s)), dtype=complex)\n",
    "\n",
    "    check_d = None\n",
    "    for i, r in enumerate(r_r):\n",
    "        for j, s in enumerate(r_s):\n",
    "            d = euclidean_distance(s, r)\n",
    "            if j == 2 and i == 0:\n",
    "                check_d = d\n",
    "            numerator = -np.exp(1j * k * d)\n",
    "            denominator = 4 * np.pi * d\n",
    "            #g[i, j] = np.round(numerator / denominator, 5)  # rounding may be unnecessary for production\n",
    "            g[i, j] = numerator / denominator\n",
    "    return g, check_d\n",
    "\n",
    "def free_space_transfer_function_3d_vectorized(r_s, r_r, k):\n",
    "    \"\"\"\n",
    "    Vectorized computation of the 3D free-space Green's function.\n",
    "\n",
    "    Args:\n",
    "        r_s (np.ndarray): Source points of shape (Ns, 3)\n",
    "        r_r (np.ndarray): Receiver points of shape (Nr, 3)\n",
    "        k (float): Wavenumber\n",
    "\n",
    "    Returns:\n",
    "        g (np.ndarray): Transfer function matrix of shape (Nr, Ns)\n",
    "    \"\"\"\n",
    "    # Ensure input shapes\n",
    "    r_s = np.asarray(r_s)  # (Ns, 3)\n",
    "    r_r = np.asarray(r_r)  # (Nr, 3)\n",
    "\n",
    "    # Compute pairwise distances: ||r_r[i] - r_s[j]|| for all i, j\n",
    "    # r_r[:, np.newaxis, :] shape: (Nr, 1, 3)\n",
    "    # r_s[np.newaxis, :, :] shape: (1, Ns, 3)\n",
    "    diffs = r_r[:, np.newaxis, :] - r_s[np.newaxis, :, :]  # shape: (Nr, Ns, 3)\n",
    "    dists = np.linalg.norm(diffs, axis=-1)  # shape: (Nr, Ns)\n",
    "\n",
    "    # Avoid division by zero (diagonal terms)\n",
    "    dists = np.where(dists == 0, 1e-10, dists)\n",
    "\n",
    "    # Compute Green's function: G = -exp(ikr) / (4πr)\n",
    "    g = -np.exp(1j * k * dists)\n",
    "    \n",
    "    g *= -1.0 / (4 * np.pi * dists)\n",
    "\n",
    "    return g\n",
    "\n",
    "def compute_greens_blockwise(r_s, r_r, k, block_size=8000):\n",
    "    Ns, Nr = len(r_s), len(r_r)\n",
    "    g = np.zeros((Nr, Ns), dtype=np.complex64)\n",
    "    for i in range(0, Nr, block_size):\n",
    "        r_r_block = r_r[i:i+block_size]\n",
    "        diffs = r_r_block[:, None, :] - r_s[None, :, :]\n",
    "        dists = np.linalg.norm(diffs, axis=-1)\n",
    "        dists = np.where(dists == 0, 1e-10, dists)\n",
    "        g_block = -np.exp(1j * k * dists) / (4 * np.pi * dists)\n",
    "        g[i:i+block_size] = g_block.astype(np.complex64)\n",
    "    return g\n",
    "\n",
    "\n",
    "def sum_rule(g: np.ndarray) -> float:\n",
    "    return np.linalg.norm(g, 'fro')**2\n",
    "\n",
    "\n",
    "def matprint(mat, fmt=\"g\"):\n",
    "    col_maxes = [max([len((\"{:\"+fmt+\"}\").format(x)) for x in col]) for col in mat.T]\n",
    "    for x in mat:\n",
    "        for i, y in enumerate(x):\n",
    "            print((\"{:\"+str(col_maxes[i])+fmt+\"}\").format(y), end=\"  \")\n",
    "        print(\"\")"
   ]
  },
  {
   "cell_type": "code",
   "execution_count": 4,
   "id": "dc37cc77-155e-4f9f-a4c2-a4c8e9116514",
   "metadata": {},
   "outputs": [],
   "source": [
    "# Flatten and stack into shape (N, 3)\n",
    "r_s = np.stack([X.ravel(), Y.ravel(), np.full(X.size, 0)], axis=1)\n",
    "r_r = np.stack([X.ravel(), Y.ravel(), np.full(X.size, z[-1])], axis=1)"
   ]
  },
  {
   "cell_type": "code",
   "execution_count": 5,
   "id": "1ef19d7f-bfbf-4c16-98a3-75bfe1dfd684",
   "metadata": {},
   "outputs": [],
   "source": [
    "#Gsr, check_d = free_space_transfer_function_3d(r_s, r_r, k)\n",
    "Gsr = compute_greens_blockwise(r_s, r_r, k)"
   ]
  },
  {
   "cell_type": "code",
   "execution_count": 11,
   "id": "3c648538-7ad8-411d-8ad7-6f05ba07c4bf",
   "metadata": {},
   "outputs": [
    {
     "data": {
      "text/plain": [
       "(27556, 27556)"
      ]
     },
     "execution_count": 11,
     "metadata": {},
     "output_type": "execute_result"
    }
   ],
   "source": [
    "Gsr.shape"
   ]
  },
  {
   "cell_type": "code",
   "execution_count": 12,
   "id": "1e1180ea-1ee6-4883-a01e-3d847c1a5a57",
   "metadata": {},
   "outputs": [
    {
     "data": {
      "text/plain": [
       "array([[ 1.02680606e-04-1.2574748e-20j,  1.02667538e-04+4.1040671e-08j,\n",
       "         1.02628255e-04+1.6406869e-07j, ...,\n",
       "        -2.31795311e-05+1.3431285e-05j, -2.35568168e-05+1.2598558e-05j,\n",
       "        -2.39058281e-05+1.1753167e-05j],\n",
       "       [ 1.02667538e-04+4.1040671e-08j,  1.02680606e-04-1.2574748e-20j,\n",
       "         1.02667538e-04+4.1040671e-08j, ...,\n",
       "        -2.27745350e-05+1.4250416e-05j, -2.31795311e-05+1.3431285e-05j,\n",
       "        -2.35568168e-05+1.2598558e-05j],\n",
       "       [ 1.02628255e-04+1.6406869e-07j,  1.02667538e-04+4.1040671e-08j,\n",
       "         1.02680606e-04-1.2574748e-20j, ...,\n",
       "        -2.23424249e-05+1.5055046e-05j, -2.27745350e-05+1.4250416e-05j,\n",
       "        -2.31795311e-05+1.3431285e-05j],\n",
       "       ...,\n",
       "       [-2.31795311e-05+1.3431285e-05j, -2.27745350e-05+1.4250416e-05j,\n",
       "        -2.23424249e-05+1.5055046e-05j, ...,\n",
       "         1.02680606e-04-1.2574748e-20j,  1.02667538e-04+4.1040671e-08j,\n",
       "         1.02628255e-04+1.6406869e-07j],\n",
       "       [-2.35568168e-05+1.2598558e-05j, -2.31795311e-05+1.3431285e-05j,\n",
       "        -2.27745350e-05+1.4250416e-05j, ...,\n",
       "         1.02667538e-04+4.1040671e-08j,  1.02680606e-04-1.2574748e-20j,\n",
       "         1.02667538e-04+4.1040671e-08j],\n",
       "       [-2.39058281e-05+1.1753167e-05j, -2.35568168e-05+1.2598558e-05j,\n",
       "        -2.31795311e-05+1.3431285e-05j, ...,\n",
       "         1.02628255e-04+1.6406869e-07j,  1.02667538e-04+4.1040671e-08j,\n",
       "         1.02680606e-04-1.2574748e-20j]],\n",
       "      shape=(27556, 27556), dtype=complex64)"
      ]
     },
     "execution_count": 12,
     "metadata": {},
     "output_type": "execute_result"
    }
   ],
   "source": [
    "Gsr"
   ]
  },
  {
   "cell_type": "code",
   "execution_count": 13,
   "id": "aa5fea8d-990e-4e78-9b61-f52618c6dffd",
   "metadata": {},
   "outputs": [],
   "source": [
    "S = sum_rule(Gsr)"
   ]
  },
  {
   "cell_type": "code",
   "execution_count": 14,
   "id": "6b82d043-23fb-4f05-a19b-6fa89ceab6c8",
   "metadata": {},
   "outputs": [
    {
     "data": {
      "text/plain": [
       "()"
      ]
     },
     "execution_count": 14,
     "metadata": {},
     "output_type": "execute_result"
    }
   ],
   "source": [
    "S.shape"
   ]
  },
  {
   "cell_type": "code",
   "execution_count": 16,
   "id": "c82c457e-c9d6-438f-8f3c-0402f9dbaf77",
   "metadata": {},
   "outputs": [],
   "source": [
    "Gsrd_Gsr = np.matmul(np.matrix.getH(Gsr), Gsr)"
   ]
  },
  {
   "cell_type": "code",
   "execution_count": 17,
   "id": "bb045f20-1d4f-4e9f-b417-766bf2caf3b2",
   "metadata": {},
   "outputs": [],
   "source": [
    "from scipy.linalg import eigh\n",
    "eig_vals_0, eig_vect_0 = eigh(Gsrd_Gsr)"
   ]
  },
  {
   "cell_type": "code",
   "execution_count": 18,
   "id": "ce16bb42-cdc6-4719-be45-f79b307ec6c6",
   "metadata": {},
   "outputs": [
    {
     "data": {
      "text/plain": [
       "(27556,)"
      ]
     },
     "execution_count": 18,
     "metadata": {},
     "output_type": "execute_result"
    }
   ],
   "source": [
    "eig_vals_0.shape"
   ]
  },
  {
   "cell_type": "code",
   "execution_count": 19,
   "id": "3ea018c5-ad7f-4541-9133-73f64d1e4439",
   "metadata": {},
   "outputs": [],
   "source": [
    "eig_vals_flipped = np.flip(eig_vals_0)"
   ]
  },
  {
   "cell_type": "code",
   "execution_count": 23,
   "id": "5aeed293-5691-439a-bdf7-4dbd1b02477d",
   "metadata": {},
   "outputs": [
    {
     "data": {
      "text/plain": [
       "[<matplotlib.lines.Line2D at 0x7cfc1b5f9bd0>]"
      ]
     },
     "execution_count": 23,
     "metadata": {},
     "output_type": "execute_result"
    },
    {
     "data": {
      "image/png": "[encoded data removed]",
      "text/plain": [
       "<Figure size 640x480 with 1 Axes>"
      ]
     },
     "metadata": {},
     "output_type": "display_data"
    }
   ],
   "source": [
    "plt.plot(eig_vals_flipped[0:20])"
   ]
  },
  {
   "cell_type": "code",
   "execution_count": null,
   "id": "e7dc861d-b2a3-4df2-a7d6-63fed67b8864",
   "metadata": {},
   "outputs": [],
   "source": []
  }
 ],
 "metadata": {
  "kernelspec": {
   "display_name": "Python 3 (ipykernel)",
   "language": "python",
   "name": "python3"
  },
  "language_info": {
   "codemirror_mode": {
    "name": "ipython",
    "version": 3
   },
   "file_extension": ".py",
   "mimetype": "text/x-python",
   "name": "python",
   "nbconvert_exporter": "python",
   "pygments_lexer": "ipython3",
   "version": "3.13.0"
  }
 },
 "nbformat": 4,
 "nbformat_minor": 5
}
