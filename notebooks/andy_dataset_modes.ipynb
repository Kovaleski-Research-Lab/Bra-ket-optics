{
 "cells": [
  {
   "cell_type": "code",
   "execution_count": null,
   "id": "3bd4334a-0e71-4e2f-9559-9abca726405b",
   "metadata": {},
   "outputs": [],
   "source": [
    "import numpy as np\n",
    "import matplotlib.pyplot as plt\n",
    "import scipy\n",
    "import sympy\n",
    "import torch"
   ]
  },
  {
   "cell_type": "code",
   "execution_count": null,
   "id": "0abbdd34-577b-46ef-ba68-613b48fd22e4",
   "metadata": {},
   "outputs": [],
   "source": [
    "plt.style.available\n",
    "plt.style.use('seaborn-v0_8-whitegrid')"
   ]
  },
  {
   "cell_type": "code",
   "execution_count": null,
   "id": "cca09c28-9a24-48d2-abdb-227c0eb6fad2",
   "metadata": {},
   "outputs": [],
   "source": [
    "wavelength = 1550\n",
    "k = 2 * np.pi / wavelength\n",
    "Lx = 2040\n",
    "Ly = 2040\n",
    "Nx = 166\n",
    "Ny = 166\n",
    "\n",
    "x = np.linspace(-Lx/2, Lx/2, Nx)\n",
    "y = np.linspace(-Ly/2, Ly/2, Ny)\n",
    "\n",
    "X,Y = np.meshgrid(x,y)\n",
    "\n",
    "z = np.linspace(1, 775, 100)"
   ]
  },
  {
   "cell_type": "code",
   "execution_count": null,
   "id": "927c63c0-4997-49bd-b19e-58bb9aa4c2c3",
   "metadata": {},
   "outputs": [],
   "source": [
    "def euclidean_distance(s, d) -> float:\n",
    "    # s -> source point\n",
    "    # d -> destination (receiving point)\n",
    "    s = np.asarray(s)\n",
    "    d = np.asarray(d)\n",
    "    return np.linalg.norm(s - d)\n",
    "\n",
    "\n",
    "def free_space_transfer_function_3d(r_s, r_r, k) -> np.ndarray:\n",
    "    \"\"\"\n",
    "    Computes the 3D free-space Green's function between source and receiver points.\n",
    "\n",
    "    Args:\n",
    "        r_s (np.ndarray): Array of source points, shape (Ns, 3)\n",
    "        r_r (np.ndarray): Array of receiver points, shape (Nr, 3)\n",
    "        k (float): Wavenumber\n",
    "\n",
    "    Returns:\n",
    "        g (np.ndarray): Transfer function matrix of shape (Nr, Ns)\n",
    "        check_d (float): Distance for a specific check case (optional debug)\n",
    "    \"\"\"\n",
    "    r_s = np.asarray(r_s)\n",
    "    r_r = np.asarray(r_r)\n",
    "    g = np.zeros((len(r_r), len(r_s)), dtype=complex)\n",
    "\n",
    "    check_d = None\n",
    "    for i, r in enumerate(r_r):\n",
    "        for j, s in enumerate(r_s):\n",
    "            d = euclidean_distance(s, r)\n",
    "            if j == 2 and i == 0:\n",
    "                check_d = d\n",
    "            numerator = -np.exp(1j * k * d)\n",
    "            denominator = 4 * np.pi * d\n",
    "            #g[i, j] = np.round(numerator / denominator, 5)  # rounding may be unnecessary for production\n",
    "            g[i, j] = numerator / denominator\n",
    "    return g, check_d\n",
    "\n",
    "def free_space_transfer_function_3d_vectorized(r_s, r_r, k):\n",
    "    \"\"\"\n",
    "    Vectorized computation of the 3D free-space Green's function.\n",
    "\n",
    "    Args:\n",
    "        r_s (np.ndarray): Source points of shape (Ns, 3)\n",
    "        r_r (np.ndarray): Receiver points of shape (Nr, 3)\n",
    "        k (float): Wavenumber\n",
    "\n",
    "    Returns:\n",
    "        g (np.ndarray): Transfer function matrix of shape (Nr, Ns)\n",
    "    \"\"\"\n",
    "    # Ensure input shapes\n",
    "    r_s = np.asarray(r_s)  # (Ns, 3)\n",
    "    r_r = np.asarray(r_r)  # (Nr, 3)\n",
    "\n",
    "    # Compute pairwise distances: ||r_r[i] - r_s[j]|| for all i, j\n",
    "    # r_r[:, np.newaxis, :] shape: (Nr, 1, 3)\n",
    "    # r_s[np.newaxis, :, :] shape: (1, Ns, 3)\n",
    "    diffs = r_r[:, np.newaxis, :] - r_s[np.newaxis, :, :]  # shape: (Nr, Ns, 3)\n",
    "    dists = np.linalg.norm(diffs, axis=-1)  # shape: (Nr, Ns)\n",
    "\n",
    "    # Avoid division by zero (diagonal terms)\n",
    "    dists = np.where(dists == 0, 1e-10, dists)\n",
    "\n",
    "    # Compute Green's function: G = -exp(ikr) / (4πr)\n",
    "    g = -np.exp(1j * k * dists)\n",
    "    \n",
    "    g *= -1.0 / (4 * np.pi * dists)\n",
    "\n",
    "    return g\n",
    "\n",
    "def compute_greens_blockwise(r_s, r_r, k, block_size=8000):\n",
    "    Ns, Nr = len(r_s), len(r_r)\n",
    "    g = np.zeros((Nr, Ns), dtype=np.complex64)\n",
    "    for i in range(0, Nr, block_size):\n",
    "        r_r_block = r_r[i:i+block_size]\n",
    "        diffs = r_r_block[:, None, :] - r_s[None, :, :]\n",
    "        dists = np.linalg.norm(diffs, axis=-1)\n",
    "        dists = np.where(dists == 0, 1e-10, dists)\n",
    "        g_block = -np.exp(1j * k * dists) / (4 * np.pi * dists)\n",
    "        g[i:i+block_size] = g_block.astype(np.complex64)\n",
    "    return g\n",
    "\n",
    "\n",
    "def sum_rule(g: np.ndarray) -> float:\n",
    "    return np.linalg.norm(g, 'fro')**2\n",
    "\n",
    "\n",
    "def matprint(mat, fmt=\"g\"):\n",
    "    col_maxes = [max([len((\"{:\"+fmt+\"}\").format(x)) for x in col]) for col in mat.T]\n",
    "    for x in mat:\n",
    "        for i, y in enumerate(x):\n",
    "            print((\"{:\"+str(col_maxes[i])+fmt+\"}\").format(y), end=\"  \")\n",
    "        print(\"\")"
   ]
  },
  {
   "cell_type": "code",
   "execution_count": null,
   "id": "dc37cc77-155e-4f9f-a4c2-a4c8e9116514",
   "metadata": {},
   "outputs": [],
   "source": [
    "# Flatten and stack into shape (N, 3)\n",
    "r_s = np.stack([X.ravel(), Y.ravel(), np.full(X.size, 0)], axis=1)\n",
    "r_r = np.stack([X.ravel(), Y.ravel(), np.full(X.size, z[-1])], axis=1)"
   ]
  },
  {
   "cell_type": "code",
   "execution_count": null,
   "id": "1ef19d7f-bfbf-4c16-98a3-75bfe1dfd684",
   "metadata": {},
   "outputs": [],
   "source": [
    "#Gsr, check_d = free_space_transfer_function_3d(r_s, r_r, k)\n",
    "Gsr = compute_greens_blockwise(r_s, r_r, k)"
   ]
  },
  {
   "cell_type": "code",
   "execution_count": null,
   "id": "3c648538-7ad8-411d-8ad7-6f05ba07c4bf",
   "metadata": {},
   "outputs": [],
   "source": [
    "Gsr.shape"
   ]
  },
  {
   "cell_type": "code",
   "execution_count": null,
   "id": "aa5fea8d-990e-4e78-9b61-f52618c6dffd",
   "metadata": {},
   "outputs": [],
   "source": [
    "S = sum_rule(Gsr)\n",
    "print(S)"
   ]
  },
  {
   "cell_type": "code",
   "execution_count": null,
   "id": "6b82d043-23fb-4f05-a19b-6fa89ceab6c8",
   "metadata": {},
   "outputs": [],
   "source": [
    "S.shape"
   ]
  },
  {
   "cell_type": "code",
   "execution_count": null,
   "id": "c82c457e-c9d6-438f-8f3c-0402f9dbaf77",
   "metadata": {},
   "outputs": [],
   "source": [
    "Gsrd_Gsr = np.matmul(np.matrix.getH(Gsr), Gsr)"
   ]
  },
  {
   "cell_type": "code",
   "execution_count": null,
   "id": "bb045f20-1d4f-4e9f-b417-766bf2caf3b2",
   "metadata": {},
   "outputs": [],
   "source": [
    "from scipy.linalg import eigh, eigvalsh\n",
    "eig_vals_0, eig_vect_0 = eigh(Gsrd_Gsr)"
   ]
  },
  {
   "cell_type": "code",
   "execution_count": null,
   "id": "ce16bb42-cdc6-4719-be45-f79b307ec6c6",
   "metadata": {},
   "outputs": [],
   "source": [
    "eig_vals_0.shape"
   ]
  },
  {
   "cell_type": "code",
   "execution_count": null,
   "id": "3ea018c5-ad7f-4541-9133-73f64d1e4439",
   "metadata": {},
   "outputs": [],
   "source": [
    "eig_vals_flipped = np.flip(eig_vals_0)"
   ]
  },
  {
   "cell_type": "code",
   "execution_count": null,
   "id": "2301a8a6-de5f-46b6-b3ca-0581b8c32f23",
   "metadata": {},
   "outputs": [],
   "source": [
    "cumulative_sum = np.cumsum(eig_vals_flipped)"
   ]
  },
  {
   "cell_type": "code",
   "execution_count": null,
   "id": "5aeed293-5691-439a-bdf7-4dbd1b02477d",
   "metadata": {},
   "outputs": [],
   "source": [
    "fig, ax = plt.subplots(1,1, figsize=(8,5))\n",
    "ax2 = ax.twinx()\n",
    "num_values = 20\n",
    "ax.plot(range(0,num_values), eig_vals_flipped[0:num_values], color='purple')\n",
    "ax.set_xlabel(\"Mode number\")\n",
    "ax.set_ylabel(r\"Eigenvalue ($|S_i|$)\")\n",
    "\n",
    "ax2.hlines(xmin=0, xmax=num_values-1, y=S, label=r'$S_{max}$', color='darkgreen', linestyle='dashed')\n",
    "ax2.plot(range(0, num_values), cumulative_sum[0:num_values], label = 'Cumulative sum', color='darkgreen')\n",
    "\n",
    "ax2.legend(loc='center right', frameon=True, framealpha=1.0)\n",
    "xtick_values = [i for i in range(0, num_values)]\n",
    "xtick_labels = [i + 1 for i in range(0, num_values)]\n",
    "ax.set_xticks(xtick_values, xtick_labels)\n",
    "ax2.set_ylabel(\"Cumulative eigenvalue sum\")\n",
    "\n",
    "plt.tight_layout()\n",
    "fig.savefig(\"andy_dataset_eigenvalues.pdf\")"
   ]
  },
  {
   "cell_type": "code",
   "execution_count": null,
   "id": "6e502fe2-6b62-41dd-ba96-e4dca2d7707f",
   "metadata": {},
   "outputs": [],
   "source": [
    "sum_percentages = cumulative_sum / S\n",
    "print(sum_percentages[0:35])"
   ]
  },
  {
   "cell_type": "code",
   "execution_count": null,
   "id": "5db19ce5-3a2f-4330-bfd8-8bd34e5381ad",
   "metadata": {},
   "outputs": [],
   "source": [
    "cumulative_sum[35]"
   ]
  },
  {
   "cell_type": "markdown",
   "id": "72f769d3-a055-46f2-911a-e6dc7c033a7e",
   "metadata": {},
   "source": [
    "## Minimum feature size"
   ]
  },
  {
   "cell_type": "code",
   "execution_count": null,
   "id": "51af1641-8402-44cb-9a4b-5b98b1dd7f96",
   "metadata": {},
   "outputs": [],
   "source": [
    "Lx = 2040e-9\n",
    "Ly = 2040e-9\n",
    "wavelength = 1550e-9\n",
    "z = 775e-9\n",
    "Nx = 166\n",
    "Ny = 166"
   ]
  },
  {
   "cell_type": "code",
   "execution_count": null,
   "id": "b5733c65-9348-4099-ae5f-c5003d8c6aa0",
   "metadata": {},
   "outputs": [],
   "source": [
    "dpx = (wavelength * z) / (2 * Lx)\n",
    "dpy = (wavelength * z) / (2 * Ly)"
   ]
  },
  {
   "cell_type": "code",
   "execution_count": null,
   "id": "5aafe3be-9d13-42cf-90ba-5db56e26b1db",
   "metadata": {},
   "outputs": [],
   "source": [
    "dpx_current = Lx / Nx\n",
    "dpy_current = Ly / Ny"
   ]
  },
  {
   "cell_type": "code",
   "execution_count": null,
   "id": "7eb9d413-15af-4bf4-844c-e35871bd7321",
   "metadata": {},
   "outputs": [],
   "source": [
    "print(\"Current 'patch size' : {}, {}\".format(dpx_current, dpy_current))\n",
    "print(\"Minimum 'patch size' : {}, {}\".format(dpx, dpy))"
   ]
  },
  {
   "cell_type": "code",
   "execution_count": null,
   "id": "97a047b2-fcd3-4fd9-b4cb-391f89ff0eb1",
   "metadata": {},
   "outputs": [],
   "source": [
    "Nx_new = Lx // dpx\n",
    "Ny_new = Ly // dpy"
   ]
  },
  {
   "cell_type": "code",
   "execution_count": null,
   "id": "39f1fa6c-bcdb-4dff-b988-bf9b3d795226",
   "metadata": {},
   "outputs": [],
   "source": [
    "print(\"Current discretization: {}, {}\".format(Nx, Ny))\n",
    "print(\"New discretization: {}, {}\".format(Nx_new, Ny_new))"
   ]
  },
  {
   "cell_type": "code",
   "execution_count": null,
   "id": "ee94b34d-e7ae-4776-8328-7a03ee7f205a",
   "metadata": {},
   "outputs": [],
   "source": []
  }
 ],
 "metadata": {
  "kernelspec": {
   "display_name": "Python 3 (ipykernel)",
   "language": "python",
   "name": "python3"
  },
  "language_info": {
   "codemirror_mode": {
    "name": "ipython",
    "version": 3
   },
   "file_extension": ".py",
   "mimetype": "text/x-python",
   "name": "python",
   "nbconvert_exporter": "python",
   "pygments_lexer": "ipython3",
   "version": "3.12.4"
  }
 },
 "nbformat": 4,
 "nbformat_minor": 5
}
