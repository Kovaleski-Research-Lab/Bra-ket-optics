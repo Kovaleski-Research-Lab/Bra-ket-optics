{
 "cells": [
  {
   "cell_type": "code",
   "execution_count": 1,
   "id": "3bd4334a-0e71-4e2f-9559-9abca726405b",
   "metadata": {},
   "outputs": [],
   "source": [
    "import numpy as np\n",
    "import matplotlib.pyplot as plt\n",
    "import scipy\n",
    "import sympy"
   ]
  },
  {
   "cell_type": "code",
   "execution_count": 2,
   "id": "cca09c28-9a24-48d2-abdb-227c0eb6fad2",
   "metadata": {},
   "outputs": [],
   "source": [
    "wavelength = 1550\n",
    "k = 2 * np.pi / wavelength\n",
    "Lx = 2040\n",
    "Ly = 2040\n",
    "Nx = 166\n",
    "Ny = 166\n",
    "\n",
    "x = np.linspace(-Lx/2, Lx/2, Nx)\n",
    "y = np.linspace(-Ly/2, Ly/2, Ny)\n",
    "\n",
    "X,Y = np.meshgrid(x,y)\n",
    "\n",
    "z = np.linspace(1, 775, 100)"
   ]
  },
  {
   "cell_type": "code",
   "execution_count": 3,
   "id": "927c63c0-4997-49bd-b19e-58bb9aa4c2c3",
   "metadata": {},
   "outputs": [],
   "source": [
    "def euclidean_distance(s, d) -> float:\n",
    "    # s -> source point\n",
    "    # d -> destination (receiving point)\n",
    "    s = np.asarray(s)\n",
    "    d = np.asarray(d)\n",
    "    return np.linalg.norm(s - d)\n",
    "\n",
    "\n",
    "def free_space_transfer_function_3d(r_s, r_r, k) -> np.ndarray:\n",
    "    \"\"\"\n",
    "    Computes the 3D free-space Green's function between source and receiver points.\n",
    "\n",
    "    Args:\n",
    "        r_s (np.ndarray): Array of source points, shape (Ns, 3)\n",
    "        r_r (np.ndarray): Array of receiver points, shape (Nr, 3)\n",
    "        k (float): Wavenumber\n",
    "\n",
    "    Returns:\n",
    "        g (np.ndarray): Transfer function matrix of shape (Nr, Ns)\n",
    "        check_d (float): Distance for a specific check case (optional debug)\n",
    "    \"\"\"\n",
    "    r_s = np.asarray(r_s)\n",
    "    r_r = np.asarray(r_r)\n",
    "    g = np.zeros((len(r_r), len(r_s)), dtype=complex)\n",
    "\n",
    "    check_d = None\n",
    "    for i, r in enumerate(r_r):\n",
    "        for j, s in enumerate(r_s):\n",
    "            d = euclidean_distance(s, r)\n",
    "            if j == 2 and i == 0:\n",
    "                check_d = d\n",
    "            numerator = -np.exp(1j * k * d)\n",
    "            denominator = 4 * np.pi * d\n",
    "            #g[i, j] = np.round(numerator / denominator, 5)  # rounding may be unnecessary for production\n",
    "            g[i, j] = numerator / denominator\n",
    "    return g, check_d\n",
    "\n",
    "def free_space_transfer_function_3d_vectorized(r_s, r_r, k):\n",
    "    \"\"\"\n",
    "    Vectorized computation of the 3D free-space Green's function.\n",
    "\n",
    "    Args:\n",
    "        r_s (np.ndarray): Source points of shape (Ns, 3)\n",
    "        r_r (np.ndarray): Receiver points of shape (Nr, 3)\n",
    "        k (float): Wavenumber\n",
    "\n",
    "    Returns:\n",
    "        g (np.ndarray): Transfer function matrix of shape (Nr, Ns)\n",
    "    \"\"\"\n",
    "    # Ensure input shapes\n",
    "    r_s = np.asarray(r_s)  # (Ns, 3)\n",
    "    r_r = np.asarray(r_r)  # (Nr, 3)\n",
    "\n",
    "    # Compute pairwise distances: ||r_r[i] - r_s[j]|| for all i, j\n",
    "    # r_r[:, np.newaxis, :] shape: (Nr, 1, 3)\n",
    "    # r_s[np.newaxis, :, :] shape: (1, Ns, 3)\n",
    "    diffs = r_r[:, np.newaxis, :] - r_s[np.newaxis, :, :]  # shape: (Nr, Ns, 3)\n",
    "    dists = np.linalg.norm(diffs, axis=-1)  # shape: (Nr, Ns)\n",
    "\n",
    "    # Avoid division by zero (diagonal terms)\n",
    "    dists = np.where(dists == 0, 1e-10, dists)\n",
    "\n",
    "    # Compute Green's function: G = -exp(ikr) / (4πr)\n",
    "    g = -np.exp(1j * k * dists).astype(np.complex64)\n",
    "    \n",
    "    g *= -1.0 / (4 * np.pi * dists.astype(np.float32))\n",
    "\n",
    "    return g\n",
    "\n",
    "\n",
    "def sum_rule(g:np.array(complex)) -> float:\n",
    "    S = np.asarray(0., dtype=np.float64)\n",
    "    for i in g:\n",
    "        for j in i:\n",
    "            S += np.abs(j)**2\n",
    "    return S\n",
    "\n",
    "def matprint(mat, fmt=\"g\"):\n",
    "    col_maxes = [max([len((\"{:\"+fmt+\"}\").format(x)) for x in col]) for col in mat.T]\n",
    "    for x in mat:\n",
    "        for i, y in enumerate(x):\n",
    "            print((\"{:\"+str(col_maxes[i])+fmt+\"}\").format(y), end=\"  \")\n",
    "        print(\"\")"
   ]
  },
  {
   "cell_type": "code",
   "execution_count": 4,
   "id": "dc37cc77-155e-4f9f-a4c2-a4c8e9116514",
   "metadata": {},
   "outputs": [],
   "source": [
    "# Flatten and stack into shape (N, 3)\n",
    "r_s = np.stack([X.ravel(), Y.ravel(), np.full(X.size, 0)], axis=1)\n",
    "r_r = np.stack([X.ravel(), Y.ravel(), np.full(X.size, z[-1])], axis=1)"
   ]
  },
  {
   "cell_type": "code",
   "execution_count": null,
   "id": "1ef19d7f-bfbf-4c16-98a3-75bfe1dfd684",
   "metadata": {},
   "outputs": [],
   "source": [
    "#Gsr, check_d = free_space_transfer_function_3d(r_s, r_r, k)\n",
    "Gsr_2 = free_space_transfer_function_3d_vectorized(r_s, r_r, k)"
   ]
  },
  {
   "cell_type": "code",
   "execution_count": null,
   "id": "3c648538-7ad8-411d-8ad7-6f05ba07c4bf",
   "metadata": {},
   "outputs": [],
   "source": [
    "(Gsr == Gsr_2).all()"
   ]
  },
  {
   "cell_type": "code",
   "execution_count": null,
   "id": "aa5fea8d-990e-4e78-9b61-f52618c6dffd",
   "metadata": {},
   "outputs": [],
   "source": []
  }
 ],
 "metadata": {
  "kernelspec": {
   "display_name": "Python 3 (ipykernel)",
   "language": "python",
   "name": "python3"
  },
  "language_info": {
   "codemirror_mode": {
    "name": "ipython",
    "version": 3
   },
   "file_extension": ".py",
   "mimetype": "text/x-python",
   "name": "python",
   "nbconvert_exporter": "python",
   "pygments_lexer": "ipython3",
   "version": "3.13.0"
  }
 },
 "nbformat": 4,
 "nbformat_minor": 5
}
