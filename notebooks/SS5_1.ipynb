{
 "cells": [
  {
   "cell_type": "code",
   "execution_count": 1,
   "id": "de6810b1-8d11-422b-9d8b-11b3b6df28c0",
   "metadata": {},
   "outputs": [],
   "source": [
    "import numpy as np\n",
    "import matplotlib.pyplot as plt\n",
    "import scipy\n",
    "import sympy"
   ]
  },
  {
   "cell_type": "code",
   "execution_count": 2,
   "id": "c10e3cc8-ee30-49f5-b2ae-91bfab306724",
   "metadata": {},
   "outputs": [],
   "source": [
    "wavelength = 1\n",
    "Ns = 9\n",
    "dy = wavelength / 2\n",
    "Lz = 5 * wavelength\n",
    "Nr = 9\n",
    "k = 2 * np.pi / wavelength"
   ]
  },
  {
   "cell_type": "code",
   "execution_count": 3,
   "id": "448cca0b-aaa5-4863-9df9-ef1a62a404fb",
   "metadata": {},
   "outputs": [],
   "source": [
    "def euclidean_distance(s, d) -> float:\n",
    "    # s -> source point\n",
    "    # d -> destination (receiving point)\n",
    "    s = np.asarray(s)\n",
    "    d = np.asarray(d)\n",
    "    return np.linalg.norm(d - s)\n",
    "\n",
    "def free_space_transfer_function(r_s, r_r, k) -> np.array:\n",
    "    # r_s -> matrix of source points, shape (Ns, 2)\n",
    "    # r_r -> matrix of recieving points, shape (Nr, 2)\n",
    "    # k -> wavenumber\n",
    "    # returns g -> matrix of floats, shape (Nr, Ns)\n",
    "    g = np.zeros((len(r_r), len(r_s)), dtype=complex)\n",
    "    for i, r in enumerate(r_r):\n",
    "        for j, s in enumerate(r_s):\n",
    "            d = euclidean_distance(s, r)\n",
    "            # Check for eq 39\n",
    "            if j == 2 and i == 0:\n",
    "                check_d = d\n",
    "            numerator = -np.exp(1j * k * d)\n",
    "            denominator = 4 * np.pi * d\n",
    "            g[i,j] = np.round(numerator / denominator, 5) # rounding here is questionable, but I need it for the checks\n",
    "    return g, check_d\n",
    "\n",
    "def sum_rule(g:np.array(complex)) -> float:\n",
    "    S = np.asarray(0., dtype=np.float64)\n",
    "    for i in g:\n",
    "        for j in i:\n",
    "            S += np.abs(j)**2\n",
    "    return S\n",
    "\n",
    "def matprint(mat, fmt=\"g\"):\n",
    "    col_maxes = [max([len((\"{:\"+fmt+\"}\").format(x)) for x in col]) for col in mat.T]\n",
    "    for x in mat:\n",
    "        for i, y in enumerate(x):\n",
    "            print((\"{:\"+str(col_maxes[i])+fmt+\"}\").format(y), end=\"  \")\n",
    "        print(\"\")"
   ]
  },
  {
   "cell_type": "code",
   "execution_count": 4,
   "id": "df19935a-dec6-4cad-bb4c-387126d49429",
   "metadata": {},
   "outputs": [],
   "source": [
    "s = np.asarray([(0, i * wavelength / 2) for i in range(Ns)])\n",
    "d = np.asarray([(5 * wavelength, i * wavelength / 2) for i in range(Nr)])\n",
    "Gsr, check_d = free_space_transfer_function(s, d, k)\n",
    "gsr = np.round(-4 * np.pi * Lz, 2)"
   ]
  },
  {
   "cell_type": "code",
   "execution_count": 5,
   "id": "173b6676-80df-461f-b921-1f7baaf2f7d2",
   "metadata": {},
   "outputs": [],
   "source": [
    "S = sum_rule(Gsr)"
   ]
  },
  {
   "cell_type": "code",
   "execution_count": 6,
   "id": "33631ab2-d524-4943-ae78-4df2cc3d1dc9",
   "metadata": {},
   "outputs": [
    {
     "name": "stdout",
     "output_type": "stream",
     "text": [
      "True\n"
     ]
    }
   ],
   "source": [
    "# eq 51 check\n",
    "print(np.allclose(S, 72.65 / (gsr**2), atol=1e-6))"
   ]
  },
  {
   "cell_type": "code",
   "execution_count": 7,
   "id": "ac1afbcc-5faf-4f2d-9854-325861ddfc8c",
   "metadata": {
    "scrolled": true
   },
   "outputs": [
    {
     "name": "stdout",
     "output_type": "stream",
     "text": [
      "   7.55+0j   3.95-4.72j   0.03-2.32j   0.12+1.16j    0.6+1.63j    0.08+0.1j   0.18-1.11j   0.49-0.54j    -0.35-0j  \n",
      "3.95+4.72j      7.93+0j   5.02-3.67j   0.95-1.72j  -0.74+1.22j  -0.93+1.36j   0.06-0.02j      1.15-0j  0.49+0.54j  \n",
      "0.03+2.32j   5.02+3.67j      8.22+0j    5.8-2.33j   1.48-0.89j  -1.46+0.53j     -1.61-0j   0.06+0.02j  0.18+1.11j  \n",
      "0.12-1.16j   0.95+1.72j    5.8+2.33j       8.4+0j    6.21-0.8j      1.64+0j  -1.46-0.53j  -0.93-1.36j   0.08-0.1j  \n",
      " 0.6-1.63j  -0.74-1.22j   1.48+0.89j    6.21+0.8j      8.46-0j    6.21+0.8j   1.48+0.89j  -0.74-1.22j   0.6-1.63j  \n",
      " 0.08-0.1j  -0.93-1.36j  -1.46-0.53j      1.64+0j    6.21-0.8j       8.4-0j    5.8+2.33j   0.95+1.72j  0.12-1.16j  \n",
      "0.18+1.11j   0.06+0.02j     -1.61+0j  -1.46+0.53j   1.48-0.89j    5.8-2.33j      8.22+0j   5.02+3.67j  0.03+2.32j  \n",
      "0.49+0.54j      1.15+0j   0.06-0.02j  -0.93+1.36j  -0.74+1.22j   0.95-1.72j   5.02-3.67j      7.93+0j  3.95+4.72j  \n",
      "  -0.35+0j   0.49-0.54j   0.18-1.11j    0.08+0.1j    0.6+1.63j   0.12+1.16j   0.03-2.32j   3.95-4.72j     7.55+0j  \n",
      "(9, 9)\n"
     ]
    }
   ],
   "source": [
    "gsr_Gsrd_Gsr = np.round(gsr**2 * np.matmul(np.matrix.getH(Gsr), Gsr), 2)\n",
    "matprint(gsr_Gsrd_Gsr)\n",
    "print(gsr_Gsrd_Gsr.shape)"
   ]
  },
  {
   "cell_type": "code",
   "execution_count": 17,
   "id": "69c430a4-f8e5-4f44-a35e-48cadcc4771b",
   "metadata": {},
   "outputs": [
    {
     "name": "stdout",
     "output_type": "stream",
     "text": [
      "[5.25e-03 5.17e-03 4.84e-03 2.64e-03 4.80e-04 3.00e-05 0.00e+00 0.00e+00\n",
      " 0.00e+00]\n",
      "[20.72494672 20.40913801 19.10642708 10.4216875   1.89485227  0.11842827\n",
      "  0.          0.          0.        ]\n",
      "72.67547984899998\n"
     ]
    }
   ],
   "source": [
    "Gsr_Gsrd = np.matmul(Gsr, np.matrix.getH(Gsr))\n",
    "eig_vals, eig_vect = np.linalg.eigh(Gsr_Gsrd)\n",
    "eig_vect = np.flip(eig_vect)\n",
    "eig_vals = np.round(np.flip(eig_vals), 5)\n",
    "print(eig_vals)\n",
    "print(eig_vals * (gsr**2))\n",
    "print(np.sum(eig_vals * (gsr**2)))"
   ]
  },
  {
   "cell_type": "code",
   "execution_count": 20,
   "id": "959c68c6-66d8-4c1a-a0f8-921829ce8749",
   "metadata": {},
   "outputs": [
    {
     "data": {
      "text/plain": [
       "(9, 9)"
      ]
     },
     "execution_count": 20,
     "metadata": {},
     "output_type": "execute_result"
    }
   ],
   "source": [
    "eig_vect.shape"
   ]
  },
  {
   "cell_type": "code",
   "execution_count": 40,
   "id": "72f5d3c2-cd50-4dd7-85bd-ac685909c1a7",
   "metadata": {},
   "outputs": [],
   "source": [
    "x = np.linspace(1e-6, Lz, 100)\n",
    "y = np.linspace(0, dy * Ns, 100)\n",
    "xx, yy = np.meshgrid(x,y)\n",
    "\n",
    "points = np.stack([xx.ravel(), yy.ravel()], axis=-1)"
   ]
  },
  {
   "cell_type": "code",
   "execution_count": 61,
   "id": "92b7c408-d503-411c-a3b8-c364de0339f2",
   "metadata": {
    "scrolled": true
   },
   "outputs": [
    {
     "name": "stdout",
     "output_type": "stream",
     "text": [
      "(10000,)\n",
      "(100, 100)\n"
     ]
    }
   ],
   "source": [
    "distance = []\n",
    "for p in points:\n",
    "    distance.append(euclidean_distance(s[3], p))\n",
    "distance = np.stack(distance)\n",
    "print(distance.shape)\n",
    "distance = np.reshape(distance, xx.shape)\n",
    "print(distance.shape)\n"
   ]
  },
  {
   "cell_type": "code",
   "execution_count": 62,
   "id": "08a94cc3-0779-4b0e-aaaa-60f61d765b5b",
   "metadata": {},
   "outputs": [
    {
     "data": {
      "text/plain": [
       "<matplotlib.collections.QuadMesh at 0x70463e1c3890>"
      ]
     },
     "execution_count": 62,
     "metadata": {},
     "output_type": "execute_result"
    },
    {
     "data": {
      "image/png": "[encoded data removed]",
      "text/plain": [
       "<Figure size 640x480 with 1 Axes>"
      ]
     },
     "metadata": {},
     "output_type": "display_data"
    }
   ],
   "source": [
    "plt.pcolormesh(xx, yy, distance)"
   ]
  },
  {
   "cell_type": "code",
   "execution_count": null,
   "id": "1c6b2b7c-03bb-45f9-9b80-c6203d69e08b",
   "metadata": {},
   "outputs": [],
   "source": []
  }
 ],
 "metadata": {
  "kernelspec": {
   "display_name": "Python 3 (ipykernel)",
   "language": "python",
   "name": "python3"
  },
  "language_info": {
   "codemirror_mode": {
    "name": "ipython",
    "version": 3
   },
   "file_extension": ".py",
   "mimetype": "text/x-python",
   "name": "python",
   "nbconvert_exporter": "python",
   "pygments_lexer": "ipython3",
   "version": "3.13.0"
  }
 },
 "nbformat": 4,
 "nbformat_minor": 5
}
