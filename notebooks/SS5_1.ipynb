{
 "cells": [
  {
   "cell_type": "code",
   "execution_count": 1,
   "id": "de6810b1-8d11-422b-9d8b-11b3b6df28c0",
   "metadata": {},
   "outputs": [],
   "source": [
    "import numpy as np\n",
    "import matplotlib.pyplot as plt\n",
    "import scipy\n",
    "import sympy\n",
    "from scipy.spatial.distance import cdist  # fast distance computation\n"
   ]
  },
  {
   "cell_type": "code",
   "execution_count": 2,
   "id": "c10e3cc8-ee30-49f5-b2ae-91bfab306724",
   "metadata": {},
   "outputs": [],
   "source": [
    "wavelength = 1\n",
    "Ns = 9\n",
    "dy = wavelength / 2\n",
    "Lz = 5 * wavelength\n",
    "Nr = 9\n",
    "k = 2 * np.pi / wavelength"
   ]
  },
  {
   "cell_type": "code",
   "execution_count": 3,
   "id": "448cca0b-aaa5-4863-9df9-ef1a62a404fb",
   "metadata": {},
   "outputs": [],
   "source": [
    "def euclidean_distance(s, d) -> float:\n",
    "    # s -> source point\n",
    "    # d -> destination (receiving point)\n",
    "    s = np.asarray(s)\n",
    "    d = np.asarray(d)\n",
    "    return np.linalg.norm(d - s)\n",
    "\n",
    "def free_space_transfer_function(r_s, r_r, k) -> np.array:\n",
    "    # r_s -> matrix of source points, shape (Ns, 2)\n",
    "    # r_r -> matrix of recieving points, shape (Nr, 2)\n",
    "    # k -> wavenumber\n",
    "    # returns g -> matrix of floats, shape (Nr, Ns)\n",
    "    g = np.zeros((len(r_r), len(r_s)), dtype=complex)\n",
    "    for i, r in enumerate(r_r):\n",
    "        for j, s in enumerate(r_s):\n",
    "            d = euclidean_distance(s, r)\n",
    "            # Check for eq 39\n",
    "            if j == 2 and i == 0:\n",
    "                check_d = d\n",
    "            numerator = -np.exp(1j * k * d)\n",
    "            denominator = 4 * np.pi * d\n",
    "            g[i, j] = np.round(numerator / denominator, 5) # rounding here is questionable, but I need it for the checks\n",
    "    return g, check_d\n",
    "\n",
    "def sum_rule(g:np.array(complex)) -> float:\n",
    "    S = np.asarray(0., dtype=np.float64)\n",
    "    for i in g:\n",
    "        for j in i:\n",
    "            S += np.abs(j)**2\n",
    "    return S\n",
    "\n",
    "def matprint(mat, fmt=\"g\"):\n",
    "    col_maxes = [max([len((\"{:\"+fmt+\"}\").format(x)) for x in col]) for col in mat.T]\n",
    "    for x in mat:\n",
    "        for i, y in enumerate(x):\n",
    "            print((\"{:\"+str(col_maxes[i])+fmt+\"}\").format(y), end=\"  \")\n",
    "        print(\"\")"
   ]
  },
  {
   "cell_type": "code",
   "execution_count": 4,
   "id": "df19935a-dec6-4cad-bb4c-387126d49429",
   "metadata": {},
   "outputs": [],
   "source": [
    "s = np.asarray([(0, i * (wavelength / 2)) for i in range(Ns)])\n",
    "d = np.asarray([(Lz, i * (wavelength / 2)) for i in range(Nr)])\n",
    "Gsr, check_d = free_space_transfer_function(s, d, k)\n",
    "gsr = np.round(-4 * np.pi * Lz, 2)"
   ]
  },
  {
   "cell_type": "code",
   "execution_count": 8,
   "id": "6fc85579-9c47-4022-ac52-8b440b8f0742",
   "metadata": {},
   "outputs": [
    {
     "name": "stdout",
     "output_type": "stream",
     "text": [
      "      -0.01592+0j  -0.01564-0.00247j   -0.01268-0.0091j  -0.00284-0.01498j   0.01109-0.00976j   0.01201+0.00764j  -0.00665+0.01192j  -0.01039-0.00788j    0.0102-0.00711j  \n",
      "-0.01564-0.00247j        -0.01592+0j  -0.01564-0.00247j   -0.01268-0.0091j  -0.00284-0.01498j   0.01109-0.00976j   0.01201+0.00764j  -0.00665+0.01192j  -0.01039-0.00788j  \n",
      " -0.01268-0.0091j  -0.01564-0.00247j        -0.01592+0j  -0.01564-0.00247j   -0.01268-0.0091j  -0.00284-0.01498j   0.01109-0.00976j   0.01201+0.00764j  -0.00665+0.01192j  \n",
      "-0.00284-0.01498j   -0.01268-0.0091j  -0.01564-0.00247j        -0.01592+0j  -0.01564-0.00247j   -0.01268-0.0091j  -0.00284-0.01498j   0.01109-0.00976j   0.01201+0.00764j  \n",
      " 0.01109-0.00976j  -0.00284-0.01498j   -0.01268-0.0091j  -0.01564-0.00247j        -0.01592+0j  -0.01564-0.00247j   -0.01268-0.0091j  -0.00284-0.01498j   0.01109-0.00976j  \n",
      " 0.01201+0.00764j   0.01109-0.00976j  -0.00284-0.01498j   -0.01268-0.0091j  -0.01564-0.00247j        -0.01592+0j  -0.01564-0.00247j   -0.01268-0.0091j  -0.00284-0.01498j  \n",
      "-0.00665+0.01192j   0.01201+0.00764j   0.01109-0.00976j  -0.00284-0.01498j   -0.01268-0.0091j  -0.01564-0.00247j        -0.01592+0j  -0.01564-0.00247j   -0.01268-0.0091j  \n",
      "-0.01039-0.00788j  -0.00665+0.01192j   0.01201+0.00764j   0.01109-0.00976j  -0.00284-0.01498j   -0.01268-0.0091j  -0.01564-0.00247j        -0.01592+0j  -0.01564-0.00247j  \n",
      "  0.0102-0.00711j  -0.01039-0.00788j  -0.00665+0.01192j   0.01201+0.00764j   0.01109-0.00976j  -0.00284-0.01498j   -0.01268-0.0091j  -0.01564-0.00247j        -0.01592+0j  \n"
     ]
    }
   ],
   "source": [
    "matprint(Gsr)"
   ]
  },
  {
   "cell_type": "code",
   "execution_count": 5,
   "id": "173b6676-80df-461f-b921-1f7baaf2f7d2",
   "metadata": {},
   "outputs": [],
   "source": [
    "S = sum_rule(Gsr)"
   ]
  },
  {
   "cell_type": "code",
   "execution_count": 9,
   "id": "33631ab2-d524-4943-ae78-4df2cc3d1dc9",
   "metadata": {},
   "outputs": [
    {
     "name": "stdout",
     "output_type": "stream",
     "text": [
      "True\n"
     ]
    }
   ],
   "source": [
    "# eq 51 check\n",
    "print(np.allclose(S, 72.65 / (gsr**2), atol=1e-6))"
   ]
  },
  {
   "cell_type": "code",
   "execution_count": 10,
   "id": "ac1afbcc-5faf-4f2d-9854-325861ddfc8c",
   "metadata": {
    "scrolled": true
   },
   "outputs": [
    {
     "name": "stdout",
     "output_type": "stream",
     "text": [
      "   7.55+0j   3.95-4.72j   0.03-2.32j   0.12+1.16j    0.6+1.63j    0.08+0.1j   0.18-1.11j   0.49-0.54j    -0.35-0j  \n",
      "3.95+4.72j      7.93+0j   5.02-3.67j   0.95-1.72j  -0.74+1.22j  -0.93+1.36j   0.06-0.02j      1.15-0j  0.49+0.54j  \n",
      "0.03+2.32j   5.02+3.67j      8.22+0j    5.8-2.33j   1.48-0.89j  -1.46+0.53j     -1.61-0j   0.06+0.02j  0.18+1.11j  \n",
      "0.12-1.16j   0.95+1.72j    5.8+2.33j       8.4+0j    6.21-0.8j      1.64+0j  -1.46-0.53j  -0.93-1.36j   0.08-0.1j  \n",
      " 0.6-1.63j  -0.74-1.22j   1.48+0.89j    6.21+0.8j      8.46+0j    6.21+0.8j   1.48+0.89j  -0.74-1.22j   0.6-1.63j  \n",
      " 0.08-0.1j  -0.93-1.36j  -1.46-0.53j      1.64+0j    6.21-0.8j       8.4+0j    5.8+2.33j   0.95+1.72j  0.12-1.16j  \n",
      "0.18+1.11j   0.06+0.02j     -1.61+0j  -1.46+0.53j   1.48-0.89j    5.8-2.33j      8.22+0j   5.02+3.67j  0.03+2.32j  \n",
      "0.49+0.54j      1.15+0j   0.06-0.02j  -0.93+1.36j  -0.74+1.22j   0.95-1.72j   5.02-3.67j      7.93+0j  3.95+4.72j  \n",
      "  -0.35+0j   0.49-0.54j   0.18-1.11j    0.08+0.1j    0.6+1.63j   0.12+1.16j   0.03-2.32j   3.95-4.72j     7.55+0j  \n",
      "(9, 9)\n"
     ]
    }
   ],
   "source": [
    "gsr_Gsrd_Gsr = np.round(gsr**2 * np.matmul(np.matrix.getH(Gsr), Gsr), 2)\n",
    "matprint(gsr_Gsrd_Gsr)\n",
    "print(gsr_Gsrd_Gsr.shape)"
   ]
  },
  {
   "cell_type": "code",
   "execution_count": 11,
   "id": "69c430a4-f8e5-4f44-a35e-48cadcc4771b",
   "metadata": {},
   "outputs": [
    {
     "name": "stdout",
     "output_type": "stream",
     "text": [
      "(9,)\n",
      "[5.25e-03 5.17e-03 4.84e-03 2.64e-03 4.80e-04 3.00e-05 0.00e+00 0.00e+00\n",
      " 0.00e+00]\n",
      "[20.72494672 20.40913801 19.10642708 10.4216875   1.89485227  0.11842827\n",
      "  0.          0.          0.        ]\n",
      "72.67547984899998\n"
     ]
    }
   ],
   "source": [
    "\n",
    "from scipy.linalg import eigh\n",
    "\n",
    "Gsr_Gsrd = np.matmul(np.matrix.getH(Gsr), Gsr)\n",
    "eig_vals, eig_vect = np.linalg.eigh(Gsr_Gsrd)\n",
    "eig_vect = np.round(np.flip(eig_vect, axis=1), 2)\n",
    "eig_vals = np.round(np.flip(eig_vals), 5)\n",
    "print(eig_vals.shape)\n",
    "print(eig_vals)\n",
    "print(eig_vals * (gsr**2))\n",
    "print(np.sum(eig_vals * (gsr**2)))"
   ]
  },
  {
   "cell_type": "code",
   "execution_count": 12,
   "id": "959c68c6-66d8-4c1a-a0f8-921829ce8749",
   "metadata": {},
   "outputs": [
    {
     "data": {
      "text/plain": [
       "(9, 9)"
      ]
     },
     "execution_count": 12,
     "metadata": {},
     "output_type": "execute_result"
    }
   ],
   "source": [
    "eig_vect.shape"
   ]
  },
  {
   "cell_type": "code",
   "execution_count": 13,
   "id": "80100a9f-1551-47cd-b5c9-48e00c7f2502",
   "metadata": {},
   "outputs": [],
   "source": [
    "# Choose the central phase to be zero, normalize by it\n",
    "def normalize_phase(eigenvector):\n",
    "    # Choose middle index (zero-based)\n",
    "    mid_idx = len(eigenvector) // 2\n",
    "    # Extract phase of the middle entry\n",
    "    phase = np.angle(eigenvector[mid_idx])\n",
    "    # Normalize eigenvector by this phase\n",
    "    return eigenvector * np.exp(-1j * phase)\n",
    "\n",
    "\n",
    "# Normalize each eigenvector's phase\n",
    "normalized_eigenvectors = np.column_stack([\n",
    "    normalize_phase(eig_vect[:, j])\n",
    "    for j in range(eig_vect.shape[1])\n",
    "])"
   ]
  },
  {
   "cell_type": "code",
   "execution_count": 14,
   "id": "72f5d3c2-cd50-4dd7-85bd-ac685909c1a7",
   "metadata": {},
   "outputs": [],
   "source": [
    "x = np.linspace(0.2, Lz+0.2, 200)\n",
    "y = np.linspace(-dy, dy * Ns, 200)\n",
    "xx, yy = np.meshgrid(x,y)\n",
    "\n",
    "points = np.stack([xx.ravel(), yy.ravel()], axis=-1)"
   ]
  },
  {
   "cell_type": "code",
   "execution_count": 15,
   "id": "92b7c408-d503-411c-a3b8-c364de0339f2",
   "metadata": {
    "scrolled": true
   },
   "outputs": [
    {
     "name": "stdout",
     "output_type": "stream",
     "text": [
      "(40000,)\n",
      "(200, 200)\n"
     ]
    }
   ],
   "source": [
    "distance = []\n",
    "for p in points:\n",
    "    distance.append(euclidean_distance(s[3], p))\n",
    "distance = np.stack(distance)\n",
    "print(distance.shape)\n",
    "distance = np.reshape(distance, xx.shape)\n",
    "print(distance.shape)\n"
   ]
  },
  {
   "cell_type": "code",
   "execution_count": 16,
   "id": "08a94cc3-0779-4b0e-aaaa-60f61d765b5b",
   "metadata": {},
   "outputs": [
    {
     "name": "stdout",
     "output_type": "stream",
     "text": [
      "(9, 40000)\n",
      "(9, 200, 200)\n"
     ]
    }
   ],
   "source": [
    "values = []\n",
    "\n",
    "for m in range(0, 9):\n",
    "    temp = []\n",
    "    for p in points:\n",
    "        h = normalized_eigenvectors[:, m]\n",
    "        val = 0\n",
    "        for i, source in enumerate(s):\n",
    "            distance = euclidean_distance(source, p)\n",
    "            numerator = np.exp(1j * k * distance) * h[i]\n",
    "            val += numerator / distance\n",
    "        val *= (-1 / (4 * np.pi))\n",
    "        val *= np.sqrt(p[0])\n",
    "        temp.append(val)\n",
    "    values.append(temp)\n",
    "values = np.asarray(values)\n",
    "\n",
    "print(values.shape)\n",
    "values = np.asarray([np.reshape(i, xx.shape) for i in values])\n",
    "print(values.shape)"
   ]
  },
  {
   "cell_type": "code",
   "execution_count": null,
   "id": "e0d5afa2-08f1-48a2-a5dc-5f82c6d290e8",
   "metadata": {},
   "outputs": [],
   "source": [
    "# Convert to arrays if they aren't already\n",
    "source_points = np.asarray(s)\n",
    "dest_points = np.asarray(points)\n",
    "normalized_eigenvectors = np.asarray(normalized_eigenvectors)\n",
    "\n",
    "# Precompute all pairwise distances: shape (num_dest, num_source)\n",
    "distances = cdist(dest_points, source_points)  # much faster than nested loops\n",
    "\n",
    "# Precompute Green's function kernel (excluding eigenvector weighting)\n",
    "greens_kernel = np.exp(1j * k * distances) / distances  # shape: (num_dest, num_source)\n",
    "\n",
    "# Apply the integral and eigenvector projection\n",
    "# Transpose normalized_eigenvectors to shape (num_modes, num_source)\n",
    "projected = greens_kernel @ normalized_eigenvectors  # shape: (num_dest, num_modes)\n",
    "\n",
    "# Multiply by constants and reshape to match original output (num_modes, num_dest)\n",
    "scale_factor = (-1 / (4 * np.pi)) * np.sqrt(dest_points[:,0])\n",
    "values_temp = scale_factor * projected.T  # shape: (num_modes, num_dest)\n",
    "values_temp = np.asarray([np.reshape(i, xx.shape) for i in values_temp])\n"
   ]
  },
  {
   "cell_type": "code",
   "execution_count": null,
   "id": "1eb0ceda-ca78-4fca-8110-db9a38be98bd",
   "metadata": {},
   "outputs": [],
   "source": [
    "print(dest_points.shape)"
   ]
  },
  {
   "cell_type": "code",
   "execution_count": null,
   "id": "b37fe421-6b98-4920-9fcf-b875334f4404",
   "metadata": {},
   "outputs": [],
   "source": [
    "for m in values:\n",
    "    print(m.shape)"
   ]
  },
  {
   "cell_type": "code",
   "execution_count": null,
   "id": "d4082e38-d907-43cb-9059-70b561dcf982",
   "metadata": {},
   "outputs": [],
   "source": [
    "print(values_temp.shape)"
   ]
  },
  {
   "cell_type": "code",
   "execution_count": null,
   "id": "ca960fa0-008e-4695-b4aa-fd87aacac1dc",
   "metadata": {},
   "outputs": [],
   "source": [
    "for v, v_ in zip(values, values_temp):\n",
    "    print(np.allclose(v, v_))"
   ]
  },
  {
   "cell_type": "code",
   "execution_count": null,
   "id": "84b1c55f-6d44-44d7-89bf-473ccace7951",
   "metadata": {},
   "outputs": [],
   "source": [
    "for i,m in enumerate(values_temp):\n",
    "    fig, ax = plt.subplots(2,2, figsize=(10,10))\n",
    "    \n",
    "    \n",
    "    ax[0][0].pcolormesh(xx, yy, m.real, cmap='jet')\n",
    "    ax[0][0].scatter(s[:, 0], s[:, 1], color='black')\n",
    "    ax[0][0].scatter(d[:, 0], d[:, 1], color='black')\n",
    "    ax[0][0].set_title(\"Real\")\n",
    "    ax[0][0].set_xlabel(r\"Z [$\\lambda$]\")\n",
    "    ax[0][0].set_ylabel(r\"Y [$\\lambda$]\")\n",
    "\n",
    "    \n",
    "    ax[0][1].pcolormesh(xx, yy,m.imag, cmap='jet')\n",
    "    ax[0][1].scatter(s[:, 0], s[:, 1], color='black')\n",
    "    ax[0][1].scatter(d[:, 0], d[:, 1], color='black')\n",
    "    ax[0][1].set_title(\"Imaginary\")\n",
    "    ax[0][1].set_xlabel(r\"Z [$\\lambda$]\")\n",
    "    ax[0][1].set_ylabel(r\"Y [$\\lambda$]\")\n",
    "    \n",
    "    ax[1][0].pcolormesh(xx, yy, np.abs(m), cmap='jet')\n",
    "    ax[1][0].scatter(s[:, 0], s[:, 1], color='black')\n",
    "    ax[1][0].scatter(d[:, 0], d[:, 1], color='black')\n",
    "    ax[1][0].set_title(\"Magnitude\")\n",
    "    ax[1][0].set_xlabel(r\"Z [$\\lambda$]\")\n",
    "    ax[1][0].set_ylabel(r\"Y [$\\lambda$]\")\n",
    "    \n",
    "    ax[1][1].pcolormesh(xx, yy, np.angle(m), cmap='hsv')\n",
    "    ax[1][1].scatter(s[:, 0], s[:, 1], color='black')\n",
    "    ax[1][1].scatter(d[:, 0], d[:, 1], color='black')\n",
    "    ax[1][1].set_title(\"Phase\")\n",
    "    ax[1][1].set_xlabel(r\"Z [$\\lambda$]\")\n",
    "    ax[1][1].set_ylabel(r\"Y [$\\lambda$]\")\n",
    "    \n",
    "    fig.suptitle(\"Mode {}\".format(i))\n",
    "    plt.tight_layout()\n",
    "    fig.savefig(\"SS5_1_modes/mode_{:03d}.png\".format(i), dpi=300)"
   ]
  },
  {
   "cell_type": "markdown",
   "id": "55e44e85-238e-41e9-9600-e6708d3a3063",
   "metadata": {},
   "source": [
    "## Let's get the source complex amplitudes"
   ]
  },
  {
   "cell_type": "code",
   "execution_count": null,
   "id": "4f7e39f6-5818-4935-a9a6-26169a99a17d",
   "metadata": {},
   "outputs": [],
   "source": [
    "plt.scatter(range(0,9), np.angle(normalized_eigenvectors[:,1]))"
   ]
  },
  {
   "cell_type": "code",
   "execution_count": null,
   "id": "d80ada06-2736-4e7f-9a8f-deda1da77c52",
   "metadata": {},
   "outputs": [],
   "source": [
    "np.angle(eig_vect[:,1][4])"
   ]
  },
  {
   "cell_type": "code",
   "execution_count": null,
   "id": "f0c7783c-5449-4db2-a2af-5b762a8f46f5",
   "metadata": {},
   "outputs": [],
   "source": []
  },
  {
   "cell_type": "code",
   "execution_count": null,
   "id": "4f8fc563-6bc1-4cbd-b6f7-f07d02e91a2a",
   "metadata": {},
   "outputs": [],
   "source": []
  }
 ],
 "metadata": {
  "kernelspec": {
   "display_name": "Python 3 (ipykernel)",
   "language": "python",
   "name": "python3"
  },
  "language_info": {
   "codemirror_mode": {
    "name": "ipython",
    "version": 3
   },
   "file_extension": ".py",
   "mimetype": "text/x-python",
   "name": "python",
   "nbconvert_exporter": "python",
   "pygments_lexer": "ipython3",
   "version": "3.12.4"
  }
 },
 "nbformat": 4,
 "nbformat_minor": 5
}
